{
 "cells": [
  {
   "cell_type": "markdown",
   "metadata": {
    "collapsed": true
   },
   "source": [
    "# Image Classification\n",
    "In this project, you'll classify images from the [CIFAR-10 dataset](https://www.cs.toronto.edu/~kriz/cifar.html).  The dataset consists of airplanes, dogs, cats, and other objects. You'll preprocess the images, then train a convolutional neural network on all the samples. The images need to be normalized and the labels need to be one-hot encoded.  You'll get to apply what you learned and build a convolutional, max pooling, dropout, and fully connected layers.  At the end, you'll get to see your neural network's predictions on the sample images.\n",
    "## Get the Data\n",
    "Run the following cell to download the [CIFAR-10 dataset for python](https://www.cs.toronto.edu/~kriz/cifar-10-python.tar.gz)."
   ]
  },
  {
   "cell_type": "code",
   "execution_count": 1,
   "metadata": {},
   "outputs": [
    {
     "name": "stdout",
     "output_type": "stream",
     "text": [
      "All files found!\n"
     ]
    }
   ],
   "source": [
    "\"\"\"\n",
    "DON'T MODIFY ANYTHING IN THIS CELL THAT IS BELOW THIS LINE\n",
    "\"\"\"\n",
    "from urllib.request import urlretrieve\n",
    "from os.path import isfile, isdir\n",
    "from tqdm import tqdm\n",
    "import problem_unittests as tests\n",
    "import tarfile\n",
    "\n",
    "cifar10_dataset_folder_path = 'cifar-10-batches-py'\n",
    "\n",
    "# Use Floyd's cifar-10 dataset if present\n",
    "floyd_cifar10_location = '/input/cifar-10/python.tar.gz'\n",
    "if isfile(floyd_cifar10_location):\n",
    "    tar_gz_path = floyd_cifar10_location\n",
    "else:\n",
    "    tar_gz_path = 'cifar-10-python.tar.gz'\n",
    "\n",
    "class DLProgress(tqdm):\n",
    "    last_block = 0\n",
    "\n",
    "    def hook(self, block_num=1, block_size=1, total_size=None):\n",
    "        self.total = total_size\n",
    "        self.update((block_num - self.last_block) * block_size)\n",
    "        self.last_block = block_num\n",
    "\n",
    "if not isfile(tar_gz_path):\n",
    "    with DLProgress(unit='B', unit_scale=True, miniters=1, desc='CIFAR-10 Dataset') as pbar:\n",
    "        urlretrieve(\n",
    "            'https://www.cs.toronto.edu/~kriz/cifar-10-python.tar.gz',\n",
    "            tar_gz_path,\n",
    "            pbar.hook)\n",
    "\n",
    "if not isdir(cifar10_dataset_folder_path):\n",
    "    with tarfile.open(tar_gz_path) as tar:\n",
    "        tar.extractall()\n",
    "        tar.close()\n",
    "\n",
    "\n",
    "tests.test_folder_path(cifar10_dataset_folder_path)"
   ]
  },
  {
   "cell_type": "markdown",
   "metadata": {},
   "source": [
    "## Explore the Data\n",
    "The dataset is broken into batches to prevent your machine from running out of memory.  The CIFAR-10 dataset consists of 5 batches, named `data_batch_1`, `data_batch_2`, etc.. Each batch contains the labels and images that are one of the following:\n",
    "* airplane\n",
    "* automobile\n",
    "* bird\n",
    "* cat\n",
    "* deer\n",
    "* dog\n",
    "* frog\n",
    "* horse\n",
    "* ship\n",
    "* truck\n",
    "\n",
    "Understanding a dataset is part of making predictions on the data.  Play around with the code cell below by changing the `batch_id` and `sample_id`. The `batch_id` is the id for a batch (1-5). The `sample_id` is the id for a image and label pair in the batch.\n",
    "\n",
    "Ask yourself \"What are all possible labels?\", \"What is the range of values for the image data?\", \"Are the labels in order or random?\".  Answers to questions like these will help you preprocess the data and end up with better predictions."
   ]
  },
  {
   "cell_type": "code",
   "execution_count": 2,
   "metadata": {},
   "outputs": [
    {
     "name": "stdout",
     "output_type": "stream",
     "text": [
      "\n",
      "Stats of batch 3:\n",
      "Samples: 10000\n",
      "Label Counts: {0: 994, 1: 1042, 2: 965, 3: 997, 4: 990, 5: 1029, 6: 978, 7: 1015, 8: 961, 9: 1029}\n",
      "First 20 Labels: [8, 5, 0, 6, 9, 2, 8, 3, 6, 2, 7, 4, 6, 9, 0, 0, 7, 3, 7, 2]\n",
      "\n",
      "Example of Image 2:\n",
      "Image - Min Value: 21 Max Value: 255\n",
      "Image - Shape: (32, 32, 3)\n",
      "Label - Label Id: 0 Name: airplane\n"
     ]
    },
    {
     "data": {
      "image/png": "[encoded data removed]",
      "text/plain": [
       "<matplotlib.figure.Figure at 0x7f68f6343550>"
      ]
     },
     "metadata": {
      "image/png": {
       "height": 250,
       "width": 253
      }
     },
     "output_type": "display_data"
    }
   ],
   "source": [
    "%matplotlib inline\n",
    "%config InlineBackend.figure_format = 'retina'\n",
    "\n",
    "import helper\n",
    "import numpy as np\n",
    "\n",
    "# Explore the dataset\n",
    "batch_id = 3\n",
    "sample_id = 2\n",
    "helper.display_stats(cifar10_dataset_folder_path, batch_id, sample_id)"
   ]
  },
  {
   "cell_type": "markdown",
   "metadata": {},
   "source": [
    "## Implement Preprocess Functions\n",
    "### Normalize\n",
    "In the cell below, implement the `normalize` function to take in image data, `x`, and return it as a normalized Numpy array. The values should be in the range of 0 to 1, inclusive.  The return object should be the same shape as `x`."
   ]
  },
  {
   "cell_type": "code",
   "execution_count": 3,
   "metadata": {},
   "outputs": [
    {
     "name": "stdout",
     "output_type": "stream",
     "text": [
      "Tests Passed\n"
     ]
    }
   ],
   "source": [
    "def normalize(x):\n",
    "    \"\"\"\n",
    "    Normalize a list of sample image data in the range of 0 to 1\n",
    "    : x: List of image data.  The image shape is (32, 32, 3)\n",
    "    : return: Numpy array of normalize data\n",
    "    \"\"\"\n",
    "    # DONE: Implement Function\n",
    "    result_normalize = x/255\n",
    "    #print(result_normalize[0])\n",
    "    return result_normalize\n",
    "\n",
    "\n",
    "\"\"\"\n",
    "DON'T MODIFY ANYTHING IN THIS CELL THAT IS BELOW THIS LINE\n",
    "\"\"\"\n",
    "tests.test_normalize(normalize)"
   ]
  },
  {
   "cell_type": "markdown",
   "metadata": {},
   "source": [
    "### One-hot encode\n",
    "Just like the previous code cell, you'll be implementing a function for preprocessing.  This time, you'll implement the `one_hot_encode` function. The input, `x`, are a list of labels.  Implement the function to return the list of labels as One-Hot encoded Numpy array.  The possible values for labels are 0 to 9. The one-hot encoding function should return the same encoding for each value between each call to `one_hot_encode`.  Make sure to save the map of encodings outside the function.\n",
    "\n",
    "Hint: Don't reinvent the wheel."
   ]
  },
  {
   "cell_type": "code",
   "execution_count": 4,
   "metadata": {},
   "outputs": [
    {
     "name": "stdout",
     "output_type": "stream",
     "text": [
      "Tests Passed\n"
     ]
    }
   ],
   "source": [
    "def one_hot_encode(x):\n",
    "    \"\"\"\n",
    "    One hot encode a list of sample labels. Return a one-hot encoded vector for each label.\n",
    "    : x: List of sample Labels\n",
    "    : return: Numpy array of one-hot encoded labels\n",
    "    \"\"\"\n",
    "    # DONE: Implement Function\n",
    "    #print(x)\n",
    "    result_one_hot_encode = np.eye(10)[x]\n",
    "    #print(result_one_hot_encode)\n",
    "    return result_one_hot_encode\n",
    "\n",
    "\n",
    "\"\"\"\n",
    "DON'T MODIFY ANYTHING IN THIS CELL THAT IS BELOW THIS LINE\n",
    "\"\"\"\n",
    "tests.test_one_hot_encode(one_hot_encode)"
   ]
  },
  {
   "cell_type": "markdown",
   "metadata": {},
   "source": [
    "### Randomize Data\n",
    "As you saw from exploring the data above, the order of the samples are randomized.  It doesn't hurt to randomize it again, but you don't need to for this dataset."
   ]
  },
  {
   "cell_type": "markdown",
   "metadata": {},
   "source": [
    "## Preprocess all the data and save it\n",
    "Running the code cell below will preprocess all the CIFAR-10 data and save it to file. The code below also uses 10% of the training data for validation."
   ]
  },
  {
   "cell_type": "code",
   "execution_count": 5,
   "metadata": {
    "collapsed": true
   },
   "outputs": [],
   "source": [
    "\"\"\"\n",
    "DON'T MODIFY ANYTHING IN THIS CELL\n",
    "\"\"\"\n",
    "# Preprocess Training, Validation, and Testing Data\n",
    "helper.preprocess_and_save_data(cifar10_dataset_folder_path, normalize, one_hot_encode)"
   ]
  },
  {
   "cell_type": "markdown",
   "metadata": {},
   "source": [
    "# Check Point\n",
    "This is your first checkpoint.  If you ever decide to come back to this notebook or have to restart the notebook, you can start from here.  The preprocessed data has been saved to disk."
   ]
  },
  {
   "cell_type": "code",
   "execution_count": 6,
   "metadata": {
    "collapsed": true
   },
   "outputs": [],
   "source": [
    "\"\"\"\n",
    "DON'T MODIFY ANYTHING IN THIS CELL\n",
    "\"\"\"\n",
    "import pickle\n",
    "import problem_unittests as tests\n",
    "import helper\n",
    "\n",
    "# Load the Preprocessed Validation data\n",
    "valid_features, valid_labels = pickle.load(open('preprocess_validation.p', mode='rb'))"
   ]
  },
  {
   "cell_type": "markdown",
   "metadata": {},
   "source": [
    "## Build the network\n",
    "For the neural network, you'll build each layer into a function.  Most of the code you've seen has been outside of functions. To test your code more thoroughly, we require that you put each layer in a function.  This allows us to give you better feedback and test for simple mistakes using our unittests before you submit your project.\n",
    "\n",
    ">**Note:** If you're finding it hard to dedicate enough time for this course each week, we've provided a small shortcut to this part of the project. In the next couple of problems, you'll have the option to use classes from the [TensorFlow Layers](https://www.tensorflow.org/api_docs/python/tf/layers) or [TensorFlow Layers (contrib)](https://www.tensorflow.org/api_guides/python/contrib.layers) packages to build each layer, except the layers you build in the \"Convolutional and Max Pooling Layer\" section.  TF Layers is similar to Keras's and TFLearn's abstraction to layers, so it's easy to pickup.\n",
    "\n",
    ">However, if you would like to get the most out of this course, try to solve all the problems _without_ using anything from the TF Layers packages. You **can** still use classes from other packages that happen to have the same name as ones you find in TF Layers! For example, instead of using the TF Layers version of the `conv2d` class, [tf.layers.conv2d](https://www.tensorflow.org/api_docs/python/tf/layers/conv2d), you would want to use the TF Neural Network version of `conv2d`, [tf.nn.conv2d](https://www.tensorflow.org/api_docs/python/tf/nn/conv2d). \n",
    "\n",
    "Let's begin!\n",
    "\n",
    "### Input\n",
    "The neural network needs to read the image data, one-hot encoded labels, and dropout keep probability. Implement the following functions\n",
    "* Implement `neural_net_image_input`\n",
    " * Return a [TF Placeholder](https://www.tensorflow.org/api_docs/python/tf/placeholder)\n",
    " * Set the shape using `image_shape` with batch size set to `None`.\n",
    " * Name the TensorFlow placeholder \"x\" using the TensorFlow `name` parameter in the [TF Placeholder](https://www.tensorflow.org/api_docs/python/tf/placeholder).\n",
    "* Implement `neural_net_label_input`\n",
    " * Return a [TF Placeholder](https://www.tensorflow.org/api_docs/python/tf/placeholder)\n",
    " * Set the shape using `n_classes` with batch size set to `None`.\n",
    " * Name the TensorFlow placeholder \"y\" using the TensorFlow `name` parameter in the [TF Placeholder](https://www.tensorflow.org/api_docs/python/tf/placeholder).\n",
    "* Implement `neural_net_keep_prob_input`\n",
    " * Return a [TF Placeholder](https://www.tensorflow.org/api_docs/python/tf/placeholder) for dropout keep probability.\n",
    " * Name the TensorFlow placeholder \"keep_prob\" using the TensorFlow `name` parameter in the [TF Placeholder](https://www.tensorflow.org/api_docs/python/tf/placeholder).\n",
    "\n",
    "These names will be used at the end of the project to load your saved model.\n",
    "\n",
    "Note: `None` for shapes in TensorFlow allow for a dynamic size."
   ]
  },
  {
   "cell_type": "code",
   "execution_count": 7,
   "metadata": {},
   "outputs": [
    {
     "name": "stdout",
     "output_type": "stream",
     "text": [
      "(32, 32, 3)\n",
      "Image Input Tests Passed.\n",
      "Label Input Tests Passed.\n",
      "Keep Prob Tests Passed.\n"
     ]
    }
   ],
   "source": [
    "import tensorflow as tf\n",
    "\n",
    "def neural_net_image_input(image_shape):\n",
    "    \"\"\"\n",
    "    Return a Tensor for a batch of image input\n",
    "    : image_shape: Shape of the images\n",
    "    : return: Tensor for image input.\n",
    "    \"\"\"\n",
    "    # DONE: Implement Function\n",
    "    print(image_shape)\n",
    "    return tf.placeholder(tf.float32, [None, image_shape[0], image_shape[1], image_shape[2]], name=\"x\")\n",
    "\n",
    "\n",
    "def neural_net_label_input(n_classes):\n",
    "    \"\"\"\n",
    "    Return a Tensor for a batch of label input\n",
    "    : n_classes: Number of classes\n",
    "    : return: Tensor for label input.\n",
    "    \"\"\"\n",
    "    # DONE: Implement Function\n",
    "    #print(n_classes)\n",
    "    return tf.placeholder(tf.float32, [None, n_classes], name=\"y\")\n",
    "\n",
    "\n",
    "def neural_net_keep_prob_input():\n",
    "    \"\"\"\n",
    "    Return a Tensor for keep probability\n",
    "    : return: Tensor for keep probability.\n",
    "    \"\"\"\n",
    "    # DONE: Implement Function\n",
    "    return tf.placeholder(tf.float32, name=\"keep_prob\")\n",
    "\n",
    "\n",
    "\"\"\"\n",
    "DON'T MODIFY ANYTHING IN THIS CELL THAT IS BELOW THIS LINE\n",
    "\"\"\"\n",
    "tf.reset_default_graph()\n",
    "tests.test_nn_image_inputs(neural_net_image_input)\n",
    "tests.test_nn_label_inputs(neural_net_label_input)\n",
    "tests.test_nn_keep_prob_inputs(neural_net_keep_prob_input)"
   ]
  },
  {
   "cell_type": "markdown",
   "metadata": {},
   "source": [
    "### Convolution and Max Pooling Layer\n",
    "Convolution layers have a lot of success with images. For this code cell, you should implement the function `conv2d_maxpool` to apply convolution then max pooling:\n",
    "* Create the weight and bias using `conv_ksize`, `conv_num_outputs` and the shape of `x_tensor`.\n",
    "* Apply a convolution to `x_tensor` using weight and `conv_strides`.\n",
    " * We recommend you use same padding, but you're welcome to use any padding.\n",
    "* Add bias\n",
    "* Add a nonlinear activation to the convolution.\n",
    "* Apply Max Pooling using `pool_ksize` and `pool_strides`.\n",
    " * We recommend you use same padding, but you're welcome to use any padding.\n",
    "\n",
    "**Note:** You **can't** use [TensorFlow Layers](https://www.tensorflow.org/api_docs/python/tf/layers) or [TensorFlow Layers (contrib)](https://www.tensorflow.org/api_guides/python/contrib.layers) for **this** layer, but you can still use TensorFlow's [Neural Network](https://www.tensorflow.org/api_docs/python/tf/nn) package. You may still use the shortcut option for all the **other** layers."
   ]
  },
  {
   "cell_type": "code",
   "execution_count": 8,
   "metadata": {},
   "outputs": [
    {
     "name": "stdout",
     "output_type": "stream",
     "text": [
      "(2, 2)\n",
      "(?, 32, 32, 5)\n",
      "10\n",
      "(4, 4)\n",
      "(2, 2)\n",
      "(2, 2)\n",
      "Tests Passed\n"
     ]
    }
   ],
   "source": [
    "def conv2d_maxpool(x_tensor, conv_num_outputs, conv_ksize, conv_strides, pool_ksize, pool_strides):\n",
    "    \"\"\"\n",
    "    Apply convolution then max pooling to x_tensor\n",
    "    :param x_tensor: TensorFlow Tensor\n",
    "    :param conv_num_outputs: Number of outputs for the convolutional layer\n",
    "    :param conv_ksize: kernal size 2-D Tuple for the convolutional layer\n",
    "    :param conv_strides: Stride 2-D Tuple for convolution\n",
    "    :param pool_ksize: kernal size 2-D Tuple for pool\n",
    "    :param pool_strides: Stride 2-D Tuple for pool\n",
    "    : return: A tensor that represents convolution and max pooling of x_tensor\n",
    "    \"\"\"\n",
    "    # DONE: Implement Function\n",
    "    print(conv_ksize)\n",
    "    print(x_tensor.shape)\n",
    "    print(conv_num_outputs)\n",
    "    weights = tf.Variable(tf.truncated_normal((conv_ksize[0], conv_ksize[1], int(x_tensor.shape[3]), conv_num_outputs ),\\\n",
    "                                              mean=0, stddev=0.1))\n",
    "    bias = tf.Variable(tf.zeros(conv_num_outputs))\n",
    "    \n",
    "    print(conv_strides)\n",
    "    conv_layer = tf.nn.conv2d(x_tensor, weights, strides=[1, conv_strides[0], conv_strides[1], 1], padding = 'SAME')\n",
    "    conv_layer = tf.nn.bias_add(conv_layer, bias)\n",
    "    \n",
    "    conv_layer = tf.nn.relu(conv_layer)\n",
    "    \n",
    "    print(pool_ksize)\n",
    "    print(pool_strides)\n",
    "    conv_layer = tf.nn.max_pool(conv_layer, ksize=[1, pool_ksize[0], pool_ksize[1], 1], \\\n",
    "                                strides=[1, pool_strides[0], pool_strides[1], 1], padding='SAME' )\n",
    "    \n",
    "    return conv_layer \n",
    "\n",
    "\n",
    "\"\"\"\n",
    "DON'T MODIFY ANYTHING IN THIS CELL THAT IS BELOW THIS LINE\n",
    "\"\"\"\n",
    "tests.test_con_pool(conv2d_maxpool)"
   ]
  },
  {
   "cell_type": "markdown",
   "metadata": {},
   "source": [
    "### Flatten Layer\n",
    "Implement the `flatten` function to change the dimension of `x_tensor` from a 4-D tensor to a 2-D tensor.  The output should be the shape (*Batch Size*, *Flattened Image Size*). Shortcut option: you can use classes from the [TensorFlow Layers](https://www.tensorflow.org/api_docs/python/tf/layers) or [TensorFlow Layers (contrib)](https://www.tensorflow.org/api_guides/python/contrib.layers) packages for this layer. For more of a challenge, only use other TensorFlow packages."
   ]
  },
  {
   "cell_type": "code",
   "execution_count": 9,
   "metadata": {},
   "outputs": [
    {
     "name": "stdout",
     "output_type": "stream",
     "text": [
      "(?, 10, 30, 6)\n",
      "(?, 1800)\n",
      "Tests Passed\n"
     ]
    }
   ],
   "source": [
    "def flatten(x_tensor):\n",
    "    \"\"\"\n",
    "    Flatten x_tensor to (Batch Size, Flattened Image Size)\n",
    "    : x_tensor: A tensor of size (Batch Size, ...), where ... are the image dimensions.\n",
    "    : return: A tensor of size (Batch Size, Flattened Image Size).\n",
    "    \"\"\"\n",
    "    # DONE: Implement Function\n",
    "    print(x_tensor.shape)\n",
    "    flattened_x_tensor = tf.reshape(x_tensor, [-1, int(x_tensor.shape[1]) * int(x_tensor.shape[2]) * int(x_tensor.shape[3]) ])\n",
    "    print(flattened_x_tensor.shape)\n",
    "    return flattened_x_tensor\n",
    "\n",
    "\n",
    "\"\"\"\n",
    "DON'T MODIFY ANYTHING IN THIS CELL THAT IS BELOW THIS LINE\n",
    "\"\"\"\n",
    "tests.test_flatten(flatten)"
   ]
  },
  {
   "cell_type": "markdown",
   "metadata": {},
   "source": [
    "### Fully-Connected Layer\n",
    "Implement the `fully_conn` function to apply a fully connected layer to `x_tensor` with the shape (*Batch Size*, *num_outputs*). Shortcut option: you can use classes from the [TensorFlow Layers](https://www.tensorflow.org/api_docs/python/tf/layers) or [TensorFlow Layers (contrib)](https://www.tensorflow.org/api_guides/python/contrib.layers) packages for this layer. For more of a challenge, only use other TensorFlow packages."
   ]
  },
  {
   "cell_type": "code",
   "execution_count": 10,
   "metadata": {},
   "outputs": [
    {
     "name": "stdout",
     "output_type": "stream",
     "text": [
      "(?, 128)\n",
      "40\n",
      "(?, 40)\n",
      "Tests Passed\n"
     ]
    }
   ],
   "source": [
    "def fully_conn(x_tensor, num_outputs):\n",
    "    \"\"\"\n",
    "    Apply a fully connected layer to x_tensor using weight and bias\n",
    "    : x_tensor: A 2-D tensor where the first dimension is batch size.\n",
    "    : num_outputs: The number of output that the new tensor should be.\n",
    "    : return: A 2-D tensor where the second dimension is num_outputs.\n",
    "    \"\"\"\n",
    "    # DONE: Implement Function\n",
    "    print(x_tensor.shape)\n",
    "    print(num_outputs)\n",
    "    weights = tf.Variable(tf.truncated_normal( (int(x_tensor.shape[1]), num_outputs), mean=0, stddev=0.1 ) )\n",
    "    bias = tf.Variable(tf.zeros(num_outputs))\n",
    "    \n",
    "    layer = tf.add(tf.matmul(x_tensor, weights), bias)\n",
    "    print(layer.shape)\n",
    "    return layer\n",
    "\n",
    "\n",
    "\"\"\"\n",
    "DON'T MODIFY ANYTHING IN THIS CELL THAT IS BELOW THIS LINE\n",
    "\"\"\"\n",
    "tests.test_fully_conn(fully_conn)"
   ]
  },
  {
   "cell_type": "markdown",
   "metadata": {},
   "source": [
    "### Output Layer\n",
    "Implement the `output` function to apply a fully connected layer to `x_tensor` with the shape (*Batch Size*, *num_outputs*). Shortcut option: you can use classes from the [TensorFlow Layers](https://www.tensorflow.org/api_docs/python/tf/layers) or [TensorFlow Layers (contrib)](https://www.tensorflow.org/api_guides/python/contrib.layers) packages for this layer. For more of a challenge, only use other TensorFlow packages.\n",
    "\n",
    "**Note:** Activation, softmax, or cross entropy should **not** be applied to this."
   ]
  },
  {
   "cell_type": "code",
   "execution_count": 33,
   "metadata": {},
   "outputs": [
    {
     "name": "stdout",
     "output_type": "stream",
     "text": [
      "(?, 128)\n",
      "40\n",
      "(?, 40)\n",
      "Tests Passed\n"
     ]
    }
   ],
   "source": [
    "def output(x_tensor, num_outputs):\n",
    "    \"\"\"\n",
    "    Apply a output layer to x_tensor using weight and bias\n",
    "    : x_tensor: A 2-D tensor where the first dimension is batch size.\n",
    "    : num_outputs: The number of output that the new tensor should be.\n",
    "    : return: A 2-D tensor where the second dimension is num_outputs.\n",
    "    \"\"\"\n",
    "    # DONE: Implement Function\n",
    "    print(x_tensor.shape)\n",
    "    print(num_outputs)\n",
    "    weights = tf.Variable(tf.truncated_normal((int(x_tensor.shape[1]), num_outputs), mean=0, stddev=0.1 ) )\n",
    "    bias = tf.Variable(tf.zeros(num_outputs))\n",
    "    \n",
    "    layer = tf.add(tf.matmul(x_tensor, weights), bias )\n",
    "    print(layer.shape)\n",
    "\n",
    "    return layer\n",
    "\n",
    "\n",
    "\"\"\"\n",
    "DON'T MODIFY ANYTHING IN THIS CELL THAT IS BELOW THIS LINE\n",
    "\"\"\"\n",
    "tests.test_output(output)"
   ]
  },
  {
   "cell_type": "markdown",
   "metadata": {},
   "source": [
    "### Create Convolutional Model\n",
    "Implement the function `conv_net` to create a convolutional neural network model. The function takes in a batch of images, `x`, and outputs logits.  Use the layers you created above to create this model:\n",
    "\n",
    "* Apply 1, 2, or 3 Convolution and Max Pool layers\n",
    "* Apply a Flatten Layer\n",
    "* Apply 1, 2, or 3 Fully Connected Layers\n",
    "* Apply an Output Layer\n",
    "* Return the output\n",
    "* Apply [TensorFlow's Dropout](https://www.tensorflow.org/api_docs/python/tf/nn/dropout) to one or more layers in the model using `keep_prob`. "
   ]
  },
  {
   "cell_type": "code",
   "execution_count": 35,
   "metadata": {},
   "outputs": [
    {
     "name": "stdout",
     "output_type": "stream",
     "text": [
      "(32, 32, 3)\n",
      "(5, 5)\n",
      "(?, 32, 32, 3)\n",
      "64\n",
      "(1, 1)\n",
      "(3, 3)\n",
      "(2, 2)\n",
      "(3, 3)\n",
      "(?, 16, 16, 64)\n",
      "128\n",
      "(1, 1)\n",
      "(2, 2)\n",
      "(2, 2)\n",
      "(2, 2)\n",
      "(?, 8, 8, 128)\n",
      "256\n",
      "(1, 1)\n",
      "(2, 2)\n",
      "(2, 2)\n",
      "(?, 4, 4, 256)\n",
      "(?, 4096)\n",
      "(?, 4096)\n",
      "1024\n",
      "(?, 1024)\n",
      "(?, 1024)\n",
      "512\n",
      "(?, 512)\n",
      "(?, 512)\n",
      "256\n",
      "(?, 256)\n",
      "(?, 256)\n",
      "10\n",
      "(?, 10)\n",
      "(5, 5)\n",
      "(?, 32, 32, 3)\n",
      "64\n",
      "(1, 1)\n",
      "(3, 3)\n",
      "(2, 2)\n",
      "(3, 3)\n",
      "(?, 16, 16, 64)\n",
      "128\n",
      "(1, 1)\n",
      "(2, 2)\n",
      "(2, 2)\n",
      "(2, 2)\n",
      "(?, 8, 8, 128)\n",
      "256\n",
      "(1, 1)\n",
      "(2, 2)\n",
      "(2, 2)\n",
      "(?, 4, 4, 256)\n",
      "(?, 4096)\n",
      "(?, 4096)\n",
      "1024\n",
      "(?, 1024)\n",
      "(?, 1024)\n",
      "512\n",
      "(?, 512)\n",
      "(?, 512)\n",
      "256\n",
      "(?, 256)\n",
      "(?, 256)\n",
      "10\n",
      "(?, 10)\n",
      "Neural Network Built!\n"
     ]
    }
   ],
   "source": [
    "def conv_net(x, keep_prob):\n",
    "    \"\"\"\n",
    "    Create a convolutional neural network model\n",
    "    : x: Placeholder tensor that holds image data.\n",
    "    : keep_prob: Placeholder tensor that hold dropout keep probability.\n",
    "    : return: Tensor that represents logits\n",
    "    \"\"\"\n",
    "    # DONE: Apply 1, 2, or 3 Convolution and Max Pool layers\n",
    "    #    Play around with different number of outputs, kernel size and stride\n",
    "    # Function Definition from Above:\n",
    "    #    conv2d_maxpool(x_tensor, conv_num_outputs, conv_ksize, conv_strides, pool_ksize, pool_strides)\n",
    "    conv1 = conv2d_maxpool(x, 64, (5,5), (1,1), (3,3), (2,2))\n",
    "    #conv1 = conv2d_maxpool(x, 64, (8,8), (1,1), (3,3), (2,2))\n",
    "    #conv1 = conv2d_maxpool(x, 64, (5,5), (1,1), (3,3), (2,2))\n",
    "    #print('dsdsa')\n",
    "    #print(conv1.shape)\n",
    "    conv2 = conv2d_maxpool(conv1, 128, (3,3), (1,1), (2,2), (2,2))\n",
    "    #conv2 = conv2d_maxpool(conv1, 32, (4,4), (1,1), (3,3), (2,2))\n",
    "    #conv2 = conv2d_maxpool(conv1, 32, (3,3), (1,1), (3,3), (2,2))\n",
    "    \n",
    "    conv3 = conv2d_maxpool(conv2, 256, (2,2), (1,1), (2,2), (2,2))\n",
    "    #conv3 = conv2d_maxpool(conv2, 16, (2,2), (1,1), (2,2), (2,2))\n",
    "    #conv3 = conv2d_maxpool(conv2, 16, (2,2), (1,1), (2,2), (2,2) )\n",
    "    \n",
    "    # DONE: Apply a Flatten Layer\n",
    "    # Function Definition from Above:\n",
    "    #   flatten(x_tensor)\n",
    "    fc1 = flatten(conv3)\n",
    "\n",
    "    # DONE: Apply 1, 2, or 3 Fully Connected Layers\n",
    "    #    Play around with different number of outputs\n",
    "    # Function Definition from Above:\n",
    "    #   fully_conn(x_tensor, num_outputs)\n",
    "    fc1 = fully_conn(fc1, 1024)\n",
    "    fc1 = fully_conn(fc1, 512)\n",
    "    fc1 = fully_conn(fc1, 256)\n",
    "    #fc1 = fully_conn(fc1, 256)\n",
    "    #c1 = fully_conn(fc1, 256)\n",
    "    fc1 = tf.nn.relu(fc1)\n",
    "    \n",
    "    # DONE: Apply an Output Layer\n",
    "    #    Set this to the number of classes\n",
    "    # Function Definition from Above:\n",
    "    #   output(x_tensor, num_outputs)\n",
    "    fc1 = tf.nn.dropout(fc1, keep_prob)\n",
    "    outputvar = output(fc1, 10)\n",
    "    \n",
    "    # TODO: return output\n",
    "    return outputvar\n",
    "\n",
    "\n",
    "\"\"\"\n",
    "DON'T MODIFY ANYTHING IN THIS CELL THAT IS BELOW THIS LINE\n",
    "\"\"\"\n",
    "\n",
    "##############################\n",
    "## Build the Neural Network ##\n",
    "##############################\n",
    "\n",
    "# Remove previous weights, bias, inputs, etc..\n",
    "tf.reset_default_graph()\n",
    "\n",
    "# Inputs\n",
    "x = neural_net_image_input((32, 32, 3))\n",
    "y = neural_net_label_input(10)\n",
    "keep_prob = neural_net_keep_prob_input()\n",
    "\n",
    "# Model\n",
    "logits = conv_net(x, keep_prob)\n",
    "\n",
    "# Name logits Tensor, so that is can be loaded from disk after training\n",
    "logits = tf.identity(logits, name='logits')\n",
    "\n",
    "# Loss and Optimizer\n",
    "cost = tf.reduce_mean(tf.nn.softmax_cross_entropy_with_logits(logits=logits, labels=y))\n",
    "optimizer = tf.train.AdamOptimizer().minimize(cost)\n",
    "\n",
    "# Accuracy\n",
    "correct_pred = tf.equal(tf.argmax(logits, 1), tf.argmax(y, 1))\n",
    "accuracy = tf.reduce_mean(tf.cast(correct_pred, tf.float32), name='accuracy')\n",
    "\n",
    "tests.test_conv_net(conv_net)"
   ]
  },
  {
   "cell_type": "markdown",
   "metadata": {},
   "source": [
    "## Train the Neural Network\n",
    "### Single Optimization\n",
    "Implement the function `train_neural_network` to do a single optimization.  The optimization should use `optimizer` to optimize in `session` with a `feed_dict` of the following:\n",
    "* `x` for image input\n",
    "* `y` for labels\n",
    "* `keep_prob` for keep probability for dropout\n",
    "\n",
    "This function will be called for each batch, so `tf.global_variables_initializer()` has already been called.\n",
    "\n",
    "Note: Nothing needs to be returned. This function is only optimizing the neural network."
   ]
  },
  {
   "cell_type": "code",
   "execution_count": 36,
   "metadata": {},
   "outputs": [
    {
     "name": "stdout",
     "output_type": "stream",
     "text": [
      "Tests Passed\n"
     ]
    }
   ],
   "source": [
    "def train_neural_network(session, optimizer, keep_probability, feature_batch, label_batch):\n",
    "    \"\"\"\n",
    "    Optimize the session on a batch of images and labels\n",
    "    : session: Current TensorFlow session\n",
    "    : optimizer: TensorFlow optimizer function\n",
    "    : keep_probability: keep probability\n",
    "    : feature_batch: Batch of Numpy image data\n",
    "    : label_batch: Batch of Numpy label data\n",
    "    \"\"\"\n",
    "    # DONE: Implement Function\n",
    "    #print(optimizer)\n",
    "    #print(feature_batch.size)\n",
    "    #cost = tf.reduce_mean(tf.nn.softmax_cross_entropy_with_logits(logits=feature_batch, labels=label_batch))\n",
    "    #optimizer = tf.train.GradientDescentOptimizer(learning_rate=learning_rate).minimize(cost)\n",
    "    session.run(optimizer, feed_dict={x: feature_batch, y:label_batch, keep_prob:keep_probability})\n",
    "    \n",
    "\n",
    "\n",
    "\"\"\"\n",
    "DON'T MODIFY ANYTHING IN THIS CELL THAT IS BELOW THIS LINE\n",
    "\"\"\"\n",
    "tests.test_train_nn(train_neural_network)"
   ]
  },
  {
   "cell_type": "markdown",
   "metadata": {},
   "source": [
    "### Show Stats\n",
    "Implement the function `print_stats` to print loss and validation accuracy.  Use the global variables `valid_features` and `valid_labels` to calculate validation accuracy.  Use a keep probability of `1.0` to calculate the loss and validation accuracy."
   ]
  },
  {
   "cell_type": "code",
   "execution_count": 37,
   "metadata": {
    "collapsed": true
   },
   "outputs": [],
   "source": [
    "def print_stats(session, feature_batch, label_batch, cost, accuracy):\n",
    "    \"\"\"\n",
    "    Print information about loss and validation accuracy\n",
    "    : session: Current TensorFlow session\n",
    "    : feature_batch: Batch of Numpy image data\n",
    "    : label_batch: Batch of Numpy label data\n",
    "    : cost: TensorFlow cost function\n",
    "    : accuracy: TensorFlow accuracy function\n",
    "    \"\"\"\n",
    "    # DONE: Implement Function\n",
    "    loss = session.run(cost, feed_dict={x:feature_batch, y:label_batch, keep_prob:1.})\n",
    "    valid_acc = session.run(accuracy, feed_dict={x:valid_features, y:valid_labels, keep_prob:1.})\n",
    "    print ('Loss: {:>10.4f} Validation Accuracy: {:.6f} '.format(loss,valid_acc))"
   ]
  },
  {
   "cell_type": "markdown",
   "metadata": {},
   "source": [
    "### Hyperparameters\n",
    "Tune the following parameters:\n",
    "* Set `epochs` to the number of iterations until the network stops learning or start overfitting\n",
    "* Set `batch_size` to the highest number that your machine has memory for.  Most people set them to common sizes of memory:\n",
    " * 64\n",
    " * 128\n",
    " * 256\n",
    " * ...\n",
    "* Set `keep_probability` to the probability of keeping a node using dropout"
   ]
  },
  {
   "cell_type": "code",
   "execution_count": 38,
   "metadata": {
    "collapsed": true
   },
   "outputs": [],
   "source": [
    "# TODO: Tune Parameters\n",
    "epochs = 40\n",
    "batch_size = 128\n",
    "keep_probability = 0.5"
   ]
  },
  {
   "cell_type": "markdown",
   "metadata": {},
   "source": [
    "### Train on a Single CIFAR-10 Batch\n",
    "Instead of training the neural network on all the CIFAR-10 batches of data, let's use a single batch. This should save time while you iterate on the model to get a better accuracy.  Once the final validation accuracy is 50% or greater, run the model on all the data in the next section."
   ]
  },
  {
   "cell_type": "code",
   "execution_count": 39,
   "metadata": {},
   "outputs": [
    {
     "name": "stdout",
     "output_type": "stream",
     "text": [
      "Checking the Training on a Single Batch...\n",
      "Epoch  1, CIFAR-10 Batch 1:  Loss:     2.1310 Validation Accuracy: 0.290000 \n",
      "Epoch  2, CIFAR-10 Batch 1:  Loss:     1.9401 Validation Accuracy: 0.378400 \n",
      "Epoch  3, CIFAR-10 Batch 1:  Loss:     1.8085 Validation Accuracy: 0.383800 \n",
      "Epoch  4, CIFAR-10 Batch 1:  Loss:     1.5841 Validation Accuracy: 0.434600 \n",
      "Epoch  5, CIFAR-10 Batch 1:  Loss:     1.3746 Validation Accuracy: 0.479200 \n",
      "Epoch  6, CIFAR-10 Batch 1:  Loss:     1.2545 Validation Accuracy: 0.473200 \n",
      "Epoch  7, CIFAR-10 Batch 1:  Loss:     0.9879 Validation Accuracy: 0.497800 \n",
      "Epoch  8, CIFAR-10 Batch 1:  Loss:     1.0820 Validation Accuracy: 0.493400 \n",
      "Epoch  9, CIFAR-10 Batch 1:  Loss:     0.8002 Validation Accuracy: 0.532400 \n",
      "Epoch 10, CIFAR-10 Batch 1:  Loss:     0.7418 Validation Accuracy: 0.512600 \n",
      "Epoch 11, CIFAR-10 Batch 1:  Loss:     0.6078 Validation Accuracy: 0.555600 \n",
      "Epoch 12, CIFAR-10 Batch 1:  Loss:     0.5621 Validation Accuracy: 0.547400 \n",
      "Epoch 13, CIFAR-10 Batch 1:  Loss:     0.5123 Validation Accuracy: 0.550200 \n",
      "Epoch 14, CIFAR-10 Batch 1:  Loss:     0.4002 Validation Accuracy: 0.558400 \n",
      "Epoch 15, CIFAR-10 Batch 1:  Loss:     0.3990 Validation Accuracy: 0.563800 \n",
      "Epoch 16, CIFAR-10 Batch 1:  Loss:     0.3461 Validation Accuracy: 0.549400 \n",
      "Epoch 17, CIFAR-10 Batch 1:  Loss:     0.2878 Validation Accuracy: 0.554400 \n",
      "Epoch 18, CIFAR-10 Batch 1:  Loss:     0.2374 Validation Accuracy: 0.556600 \n",
      "Epoch 19, CIFAR-10 Batch 1:  Loss:     0.1745 Validation Accuracy: 0.555000 \n",
      "Epoch 20, CIFAR-10 Batch 1:  Loss:     0.1064 Validation Accuracy: 0.559200 \n",
      "Epoch 21, CIFAR-10 Batch 1:  Loss:     0.0858 Validation Accuracy: 0.555000 \n",
      "Epoch 22, CIFAR-10 Batch 1:  Loss:     0.1074 Validation Accuracy: 0.569000 \n",
      "Epoch 23, CIFAR-10 Batch 1:  Loss:     0.0878 Validation Accuracy: 0.565800 \n",
      "Epoch 24, CIFAR-10 Batch 1:  Loss:     0.0382 Validation Accuracy: 0.579400 \n",
      "Epoch 25, CIFAR-10 Batch 1:  Loss:     0.1175 Validation Accuracy: 0.570600 \n",
      "Epoch 26, CIFAR-10 Batch 1:  Loss:     0.0324 Validation Accuracy: 0.582200 \n",
      "Epoch 27, CIFAR-10 Batch 1:  Loss:     0.0410 Validation Accuracy: 0.567600 \n",
      "Epoch 28, CIFAR-10 Batch 1:  Loss:     0.0484 Validation Accuracy: 0.561400 \n",
      "Epoch 29, CIFAR-10 Batch 1:  Loss:     0.0160 Validation Accuracy: 0.565200 \n",
      "Epoch 30, CIFAR-10 Batch 1:  Loss:     0.0301 Validation Accuracy: 0.576000 \n",
      "Epoch 31, CIFAR-10 Batch 1:  Loss:     0.0122 Validation Accuracy: 0.567800 \n",
      "Epoch 32, CIFAR-10 Batch 1:  Loss:     0.0109 Validation Accuracy: 0.551800 \n",
      "Epoch 33, CIFAR-10 Batch 1:  Loss:     0.0146 Validation Accuracy: 0.554600 \n",
      "Epoch 34, CIFAR-10 Batch 1:  Loss:     0.0127 Validation Accuracy: 0.577800 \n",
      "Epoch 35, CIFAR-10 Batch 1:  Loss:     0.0076 Validation Accuracy: 0.562000 \n",
      "Epoch 36, CIFAR-10 Batch 1:  Loss:     0.0322 Validation Accuracy: 0.555000 \n",
      "Epoch 37, CIFAR-10 Batch 1:  Loss:     0.0110 Validation Accuracy: 0.591800 \n",
      "Epoch 38, CIFAR-10 Batch 1:  Loss:     0.0019 Validation Accuracy: 0.565400 \n",
      "Epoch 39, CIFAR-10 Batch 1:  Loss:     0.0079 Validation Accuracy: 0.568200 \n",
      "Epoch 40, CIFAR-10 Batch 1:  Loss:     0.0099 Validation Accuracy: 0.559600 \n"
     ]
    }
   ],
   "source": [
    "\"\"\"\n",
    "DON'T MODIFY ANYTHING IN THIS CELL\n",
    "\"\"\"\n",
    "print('Checking the Training on a Single Batch...')\n",
    "with tf.Session() as sess:\n",
    "    # Initializing the variables\n",
    "    sess.run(tf.global_variables_initializer())\n",
    "    \n",
    "    # Training cycle\n",
    "    for epoch in range(epochs):\n",
    "        batch_i = 1\n",
    "        for batch_features, batch_labels in helper.load_preprocess_training_batch(batch_i, batch_size):\n",
    "            train_neural_network(sess, optimizer, keep_probability, batch_features, batch_labels)\n",
    "        print('Epoch {:>2}, CIFAR-10 Batch {}:  '.format(epoch + 1, batch_i), end='')\n",
    "        print_stats(sess, batch_features, batch_labels, cost, accuracy)"
   ]
  },
  {
   "cell_type": "markdown",
   "metadata": {},
   "source": [
    "### Fully Train the Model\n",
    "Now that you got a good accuracy with a single CIFAR-10 batch, try it with all five batches."
   ]
  },
  {
   "cell_type": "code",
   "execution_count": 40,
   "metadata": {},
   "outputs": [
    {
     "name": "stdout",
     "output_type": "stream",
     "text": [
      "Training...\n",
      "Epoch  1, CIFAR-10 Batch 1:  Loss:     2.1524 Validation Accuracy: 0.213600 \n",
      "Epoch  1, CIFAR-10 Batch 2:  Loss:     2.0353 Validation Accuracy: 0.297600 \n",
      "Epoch  1, CIFAR-10 Batch 3:  Loss:     1.7272 Validation Accuracy: 0.357400 \n",
      "Epoch  1, CIFAR-10 Batch 4:  Loss:     1.6584 Validation Accuracy: 0.367800 \n",
      "Epoch  1, CIFAR-10 Batch 5:  Loss:     1.6339 Validation Accuracy: 0.413200 \n",
      "Epoch  2, CIFAR-10 Batch 1:  Loss:     1.5721 Validation Accuracy: 0.466800 \n",
      "Epoch  2, CIFAR-10 Batch 2:  Loss:     1.4500 Validation Accuracy: 0.456800 \n",
      "Epoch  2, CIFAR-10 Batch 3:  Loss:     1.2926 Validation Accuracy: 0.477600 \n",
      "Epoch  2, CIFAR-10 Batch 4:  Loss:     1.4116 Validation Accuracy: 0.488200 \n",
      "Epoch  2, CIFAR-10 Batch 5:  Loss:     1.3208 Validation Accuracy: 0.507000 \n",
      "Epoch  3, CIFAR-10 Batch 1:  Loss:     1.1493 Validation Accuracy: 0.525800 \n",
      "Epoch  3, CIFAR-10 Batch 2:  Loss:     1.0946 Validation Accuracy: 0.535600 \n",
      "Epoch  3, CIFAR-10 Batch 3:  Loss:     1.0319 Validation Accuracy: 0.536800 \n",
      "Epoch  3, CIFAR-10 Batch 4:  Loss:     1.1508 Validation Accuracy: 0.574600 \n",
      "Epoch  3, CIFAR-10 Batch 5:  Loss:     1.0709 Validation Accuracy: 0.568800 \n",
      "Epoch  4, CIFAR-10 Batch 1:  Loss:     0.9681 Validation Accuracy: 0.593200 \n",
      "Epoch  4, CIFAR-10 Batch 2:  Loss:     0.8767 Validation Accuracy: 0.588800 \n",
      "Epoch  4, CIFAR-10 Batch 3:  Loss:     0.8066 Validation Accuracy: 0.605400 \n",
      "Epoch  4, CIFAR-10 Batch 4:  Loss:     0.8211 Validation Accuracy: 0.581800 \n",
      "Epoch  4, CIFAR-10 Batch 5:  Loss:     0.8898 Validation Accuracy: 0.601800 \n",
      "Epoch  5, CIFAR-10 Batch 1:  Loss:     0.8924 Validation Accuracy: 0.605600 \n",
      "Epoch  5, CIFAR-10 Batch 2:  Loss:     0.8660 Validation Accuracy: 0.606000 \n",
      "Epoch  5, CIFAR-10 Batch 3:  Loss:     0.7392 Validation Accuracy: 0.604400 \n",
      "Epoch  5, CIFAR-10 Batch 4:  Loss:     0.7357 Validation Accuracy: 0.621200 \n",
      "Epoch  5, CIFAR-10 Batch 5:  Loss:     0.6389 Validation Accuracy: 0.624200 \n",
      "Epoch  6, CIFAR-10 Batch 1:  Loss:     0.7402 Validation Accuracy: 0.647200 \n",
      "Epoch  6, CIFAR-10 Batch 2:  Loss:     0.6165 Validation Accuracy: 0.639800 \n",
      "Epoch  6, CIFAR-10 Batch 3:  Loss:     0.4871 Validation Accuracy: 0.633600 \n",
      "Epoch  6, CIFAR-10 Batch 4:  Loss:     0.7012 Validation Accuracy: 0.631400 \n",
      "Epoch  6, CIFAR-10 Batch 5:  Loss:     0.5130 Validation Accuracy: 0.642800 \n",
      "Epoch  7, CIFAR-10 Batch 1:  Loss:     0.5847 Validation Accuracy: 0.646800 \n",
      "Epoch  7, CIFAR-10 Batch 2:  Loss:     0.5390 Validation Accuracy: 0.653000 \n",
      "Epoch  7, CIFAR-10 Batch 3:  Loss:     0.3987 Validation Accuracy: 0.658800 \n",
      "Epoch  7, CIFAR-10 Batch 4:  Loss:     0.5403 Validation Accuracy: 0.657400 \n",
      "Epoch  7, CIFAR-10 Batch 5:  Loss:     0.4596 Validation Accuracy: 0.661000 \n",
      "Epoch  8, CIFAR-10 Batch 1:  Loss:     0.5571 Validation Accuracy: 0.666400 \n",
      "Epoch  8, CIFAR-10 Batch 2:  Loss:     0.4388 Validation Accuracy: 0.667400 \n",
      "Epoch  8, CIFAR-10 Batch 3:  Loss:     0.3730 Validation Accuracy: 0.641800 \n",
      "Epoch  8, CIFAR-10 Batch 4:  Loss:     0.4675 Validation Accuracy: 0.677200 \n",
      "Epoch  8, CIFAR-10 Batch 5:  Loss:     0.3357 Validation Accuracy: 0.655600 \n",
      "Epoch  9, CIFAR-10 Batch 1:  Loss:     0.5198 Validation Accuracy: 0.666800 \n",
      "Epoch  9, CIFAR-10 Batch 2:  Loss:     0.4062 Validation Accuracy: 0.677800 \n",
      "Epoch  9, CIFAR-10 Batch 3:  Loss:     0.2500 Validation Accuracy: 0.659400 \n",
      "Epoch  9, CIFAR-10 Batch 4:  Loss:     0.3718 Validation Accuracy: 0.691000 \n",
      "Epoch  9, CIFAR-10 Batch 5:  Loss:     0.2767 Validation Accuracy: 0.662800 \n",
      "Epoch 10, CIFAR-10 Batch 1:  Loss:     0.3990 Validation Accuracy: 0.686200 \n",
      "Epoch 10, CIFAR-10 Batch 2:  Loss:     0.3164 Validation Accuracy: 0.685200 \n",
      "Epoch 10, CIFAR-10 Batch 3:  Loss:     0.1650 Validation Accuracy: 0.675400 \n",
      "Epoch 10, CIFAR-10 Batch 4:  Loss:     0.3334 Validation Accuracy: 0.675400 \n",
      "Epoch 10, CIFAR-10 Batch 5:  Loss:     0.2895 Validation Accuracy: 0.674600 \n",
      "Epoch 11, CIFAR-10 Batch 1:  Loss:     0.3941 Validation Accuracy: 0.694000 \n",
      "Epoch 11, CIFAR-10 Batch 2:  Loss:     0.2833 Validation Accuracy: 0.682000 \n",
      "Epoch 11, CIFAR-10 Batch 3:  Loss:     0.2053 Validation Accuracy: 0.686600 \n",
      "Epoch 11, CIFAR-10 Batch 4:  Loss:     0.2095 Validation Accuracy: 0.696400 \n",
      "Epoch 11, CIFAR-10 Batch 5:  Loss:     0.1951 Validation Accuracy: 0.675600 \n",
      "Epoch 12, CIFAR-10 Batch 1:  Loss:     0.3336 Validation Accuracy: 0.682800 \n",
      "Epoch 12, CIFAR-10 Batch 2:  Loss:     0.2512 Validation Accuracy: 0.682000 \n",
      "Epoch 12, CIFAR-10 Batch 3:  Loss:     0.1612 Validation Accuracy: 0.675600 \n",
      "Epoch 12, CIFAR-10 Batch 4:  Loss:     0.2056 Validation Accuracy: 0.701200 \n",
      "Epoch 12, CIFAR-10 Batch 5:  Loss:     0.1899 Validation Accuracy: 0.677600 \n",
      "Epoch 13, CIFAR-10 Batch 1:  Loss:     0.2738 Validation Accuracy: 0.687600 \n",
      "Epoch 13, CIFAR-10 Batch 2:  Loss:     0.2507 Validation Accuracy: 0.692200 \n",
      "Epoch 13, CIFAR-10 Batch 3:  Loss:     0.1464 Validation Accuracy: 0.698200 \n",
      "Epoch 13, CIFAR-10 Batch 4:  Loss:     0.2113 Validation Accuracy: 0.684000 \n",
      "Epoch 13, CIFAR-10 Batch 5:  Loss:     0.1595 Validation Accuracy: 0.669400 \n",
      "Epoch 14, CIFAR-10 Batch 1:  Loss:     0.2745 Validation Accuracy: 0.686400 \n",
      "Epoch 14, CIFAR-10 Batch 2:  Loss:     0.2000 Validation Accuracy: 0.693400 \n",
      "Epoch 14, CIFAR-10 Batch 3:  Loss:     0.1178 Validation Accuracy: 0.684600 \n",
      "Epoch 14, CIFAR-10 Batch 4:  Loss:     0.2289 Validation Accuracy: 0.671800 \n",
      "Epoch 14, CIFAR-10 Batch 5:  Loss:     0.1540 Validation Accuracy: 0.673600 \n",
      "Epoch 15, CIFAR-10 Batch 1:  Loss:     0.2364 Validation Accuracy: 0.681400 \n",
      "Epoch 15, CIFAR-10 Batch 2:  Loss:     0.2232 Validation Accuracy: 0.698400 \n",
      "Epoch 15, CIFAR-10 Batch 3:  Loss:     0.0971 Validation Accuracy: 0.688400 \n",
      "Epoch 15, CIFAR-10 Batch 4:  Loss:     0.1290 Validation Accuracy: 0.682400 \n",
      "Epoch 15, CIFAR-10 Batch 5:  Loss:     0.2095 Validation Accuracy: 0.676200 \n",
      "Epoch 16, CIFAR-10 Batch 1:  Loss:     0.2149 Validation Accuracy: 0.703200 \n",
      "Epoch 16, CIFAR-10 Batch 2:  Loss:     0.1633 Validation Accuracy: 0.689600 \n",
      "Epoch 16, CIFAR-10 Batch 3:  Loss:     0.0801 Validation Accuracy: 0.661000 \n",
      "Epoch 16, CIFAR-10 Batch 4:  Loss:     0.1774 Validation Accuracy: 0.681800 \n",
      "Epoch 16, CIFAR-10 Batch 5:  Loss:     0.1594 Validation Accuracy: 0.695000 \n",
      "Epoch 17, CIFAR-10 Batch 1:  Loss:     0.2202 Validation Accuracy: 0.697600 \n",
      "Epoch 17, CIFAR-10 Batch 2:  Loss:     0.1199 Validation Accuracy: 0.676400 \n",
      "Epoch 17, CIFAR-10 Batch 3:  Loss:     0.0858 Validation Accuracy: 0.692400 \n",
      "Epoch 17, CIFAR-10 Batch 4:  Loss:     0.1913 Validation Accuracy: 0.677400 \n",
      "Epoch 17, CIFAR-10 Batch 5:  Loss:     0.0875 Validation Accuracy: 0.682000 \n",
      "Epoch 18, CIFAR-10 Batch 1:  Loss:     0.1250 Validation Accuracy: 0.696800 \n",
      "Epoch 18, CIFAR-10 Batch 2:  Loss:     0.0664 Validation Accuracy: 0.709600 \n",
      "Epoch 18, CIFAR-10 Batch 3:  Loss:     0.1054 Validation Accuracy: 0.685600 \n",
      "Epoch 18, CIFAR-10 Batch 4:  Loss:     0.2043 Validation Accuracy: 0.691000 \n",
      "Epoch 18, CIFAR-10 Batch 5:  Loss:     0.1140 Validation Accuracy: 0.695400 \n",
      "Epoch 19, CIFAR-10 Batch 1:  Loss:     0.1643 Validation Accuracy: 0.705600 \n",
      "Epoch 19, CIFAR-10 Batch 2:  Loss:     0.0685 Validation Accuracy: 0.687800 \n",
      "Epoch 19, CIFAR-10 Batch 3:  Loss:     0.0922 Validation Accuracy: 0.683800 \n",
      "Epoch 19, CIFAR-10 Batch 4:  Loss:     0.0942 Validation Accuracy: 0.692200 \n",
      "Epoch 19, CIFAR-10 Batch 5:  Loss:     0.0750 Validation Accuracy: 0.712000 \n",
      "Epoch 20, CIFAR-10 Batch 1:  Loss:     0.1438 Validation Accuracy: 0.694000 \n",
      "Epoch 20, CIFAR-10 Batch 2:  Loss:     0.0849 Validation Accuracy: 0.702400 \n",
      "Epoch 20, CIFAR-10 Batch 3:  Loss:     0.0464 Validation Accuracy: 0.684800 \n",
      "Epoch 20, CIFAR-10 Batch 4:  Loss:     0.1544 Validation Accuracy: 0.705200 \n",
      "Epoch 20, CIFAR-10 Batch 5:  Loss:     0.0699 Validation Accuracy: 0.713400 \n",
      "Epoch 21, CIFAR-10 Batch 1:  Loss:     0.1054 Validation Accuracy: 0.705400 \n",
      "Epoch 21, CIFAR-10 Batch 2:  Loss:     0.0619 Validation Accuracy: 0.713400 \n",
      "Epoch 21, CIFAR-10 Batch 3:  Loss:     0.0699 Validation Accuracy: 0.697600 \n",
      "Epoch 21, CIFAR-10 Batch 4:  Loss:     0.1152 Validation Accuracy: 0.691800 \n",
      "Epoch 21, CIFAR-10 Batch 5:  Loss:     0.0720 Validation Accuracy: 0.702800 \n",
      "Epoch 22, CIFAR-10 Batch 1:  Loss:     0.0748 Validation Accuracy: 0.694400 \n"
     ]
    },
    {
     "name": "stdout",
     "output_type": "stream",
     "text": [
      "Epoch 22, CIFAR-10 Batch 2:  Loss:     0.0892 Validation Accuracy: 0.715600 \n",
      "Epoch 22, CIFAR-10 Batch 3:  Loss:     0.0465 Validation Accuracy: 0.695200 \n",
      "Epoch 22, CIFAR-10 Batch 4:  Loss:     0.0411 Validation Accuracy: 0.692000 \n",
      "Epoch 22, CIFAR-10 Batch 5:  Loss:     0.0744 Validation Accuracy: 0.684800 \n",
      "Epoch 23, CIFAR-10 Batch 1:  Loss:     0.0527 Validation Accuracy: 0.698600 \n",
      "Epoch 23, CIFAR-10 Batch 2:  Loss:     0.1050 Validation Accuracy: 0.679400 \n",
      "Epoch 23, CIFAR-10 Batch 3:  Loss:     0.0417 Validation Accuracy: 0.690800 \n",
      "Epoch 23, CIFAR-10 Batch 4:  Loss:     0.0841 Validation Accuracy: 0.680000 \n",
      "Epoch 23, CIFAR-10 Batch 5:  Loss:     0.1249 Validation Accuracy: 0.697400 \n",
      "Epoch 24, CIFAR-10 Batch 1:  Loss:     0.1273 Validation Accuracy: 0.696200 \n",
      "Epoch 24, CIFAR-10 Batch 2:  Loss:     0.0571 Validation Accuracy: 0.685600 \n",
      "Epoch 24, CIFAR-10 Batch 3:  Loss:     0.0426 Validation Accuracy: 0.689200 \n",
      "Epoch 24, CIFAR-10 Batch 4:  Loss:     0.0575 Validation Accuracy: 0.689600 \n",
      "Epoch 24, CIFAR-10 Batch 5:  Loss:     0.0553 Validation Accuracy: 0.704800 \n",
      "Epoch 25, CIFAR-10 Batch 1:  Loss:     0.0873 Validation Accuracy: 0.691800 \n",
      "Epoch 25, CIFAR-10 Batch 2:  Loss:     0.0418 Validation Accuracy: 0.704800 \n",
      "Epoch 25, CIFAR-10 Batch 3:  Loss:     0.0385 Validation Accuracy: 0.687200 \n",
      "Epoch 25, CIFAR-10 Batch 4:  Loss:     0.0208 Validation Accuracy: 0.693400 \n",
      "Epoch 25, CIFAR-10 Batch 5:  Loss:     0.0265 Validation Accuracy: 0.698400 \n",
      "Epoch 26, CIFAR-10 Batch 1:  Loss:     0.0993 Validation Accuracy: 0.700200 \n",
      "Epoch 26, CIFAR-10 Batch 2:  Loss:     0.0420 Validation Accuracy: 0.684000 \n",
      "Epoch 26, CIFAR-10 Batch 3:  Loss:     0.0400 Validation Accuracy: 0.703400 \n",
      "Epoch 26, CIFAR-10 Batch 4:  Loss:     0.0327 Validation Accuracy: 0.695000 \n",
      "Epoch 26, CIFAR-10 Batch 5:  Loss:     0.0966 Validation Accuracy: 0.678600 \n",
      "Epoch 27, CIFAR-10 Batch 1:  Loss:     0.0819 Validation Accuracy: 0.691400 \n",
      "Epoch 27, CIFAR-10 Batch 2:  Loss:     0.1080 Validation Accuracy: 0.698600 \n",
      "Epoch 27, CIFAR-10 Batch 3:  Loss:     0.0265 Validation Accuracy: 0.704800 \n",
      "Epoch 27, CIFAR-10 Batch 4:  Loss:     0.0792 Validation Accuracy: 0.673400 \n",
      "Epoch 27, CIFAR-10 Batch 5:  Loss:     0.0412 Validation Accuracy: 0.709200 \n",
      "Epoch 28, CIFAR-10 Batch 1:  Loss:     0.1001 Validation Accuracy: 0.693200 \n",
      "Epoch 28, CIFAR-10 Batch 2:  Loss:     0.0223 Validation Accuracy: 0.690600 \n",
      "Epoch 28, CIFAR-10 Batch 3:  Loss:     0.0087 Validation Accuracy: 0.684400 \n",
      "Epoch 28, CIFAR-10 Batch 4:  Loss:     0.0443 Validation Accuracy: 0.694400 \n",
      "Epoch 28, CIFAR-10 Batch 5:  Loss:     0.0151 Validation Accuracy: 0.712600 \n",
      "Epoch 29, CIFAR-10 Batch 1:  Loss:     0.0741 Validation Accuracy: 0.710400 \n",
      "Epoch 29, CIFAR-10 Batch 2:  Loss:     0.0296 Validation Accuracy: 0.700000 \n",
      "Epoch 29, CIFAR-10 Batch 3:  Loss:     0.0261 Validation Accuracy: 0.699000 \n",
      "Epoch 29, CIFAR-10 Batch 4:  Loss:     0.0574 Validation Accuracy: 0.689600 \n",
      "Epoch 29, CIFAR-10 Batch 5:  Loss:     0.1178 Validation Accuracy: 0.687200 \n",
      "Epoch 30, CIFAR-10 Batch 1:  Loss:     0.0772 Validation Accuracy: 0.701200 \n",
      "Epoch 30, CIFAR-10 Batch 2:  Loss:     0.0608 Validation Accuracy: 0.695200 \n",
      "Epoch 30, CIFAR-10 Batch 3:  Loss:     0.0094 Validation Accuracy: 0.686600 \n",
      "Epoch 30, CIFAR-10 Batch 4:  Loss:     0.0850 Validation Accuracy: 0.688200 \n",
      "Epoch 30, CIFAR-10 Batch 5:  Loss:     0.0468 Validation Accuracy: 0.690800 \n",
      "Epoch 31, CIFAR-10 Batch 1:  Loss:     0.1160 Validation Accuracy: 0.682400 \n",
      "Epoch 31, CIFAR-10 Batch 2:  Loss:     0.0255 Validation Accuracy: 0.692800 \n",
      "Epoch 31, CIFAR-10 Batch 3:  Loss:     0.0080 Validation Accuracy: 0.701800 \n",
      "Epoch 31, CIFAR-10 Batch 4:  Loss:     0.0419 Validation Accuracy: 0.712200 \n",
      "Epoch 31, CIFAR-10 Batch 5:  Loss:     0.0206 Validation Accuracy: 0.692800 \n",
      "Epoch 32, CIFAR-10 Batch 1:  Loss:     0.1030 Validation Accuracy: 0.693400 \n",
      "Epoch 32, CIFAR-10 Batch 2:  Loss:     0.0438 Validation Accuracy: 0.708600 \n",
      "Epoch 32, CIFAR-10 Batch 3:  Loss:     0.0293 Validation Accuracy: 0.697200 \n",
      "Epoch 32, CIFAR-10 Batch 4:  Loss:     0.0329 Validation Accuracy: 0.708000 \n",
      "Epoch 32, CIFAR-10 Batch 5:  Loss:     0.0163 Validation Accuracy: 0.708400 \n",
      "Epoch 33, CIFAR-10 Batch 1:  Loss:     0.0571 Validation Accuracy: 0.696600 \n",
      "Epoch 33, CIFAR-10 Batch 2:  Loss:     0.0926 Validation Accuracy: 0.694200 \n",
      "Epoch 33, CIFAR-10 Batch 3:  Loss:     0.0111 Validation Accuracy: 0.677600 \n",
      "Epoch 33, CIFAR-10 Batch 4:  Loss:     0.0359 Validation Accuracy: 0.705400 \n",
      "Epoch 33, CIFAR-10 Batch 5:  Loss:     0.0209 Validation Accuracy: 0.702400 \n",
      "Epoch 34, CIFAR-10 Batch 1:  Loss:     0.0728 Validation Accuracy: 0.683600 \n",
      "Epoch 34, CIFAR-10 Batch 2:  Loss:     0.0357 Validation Accuracy: 0.710800 \n",
      "Epoch 34, CIFAR-10 Batch 3:  Loss:     0.0236 Validation Accuracy: 0.707600 \n",
      "Epoch 34, CIFAR-10 Batch 4:  Loss:     0.0341 Validation Accuracy: 0.683400 \n",
      "Epoch 34, CIFAR-10 Batch 5:  Loss:     0.0804 Validation Accuracy: 0.699400 \n",
      "Epoch 35, CIFAR-10 Batch 1:  Loss:     0.0618 Validation Accuracy: 0.705000 \n",
      "Epoch 35, CIFAR-10 Batch 2:  Loss:     0.0196 Validation Accuracy: 0.706000 \n",
      "Epoch 35, CIFAR-10 Batch 3:  Loss:     0.0088 Validation Accuracy: 0.706600 \n",
      "Epoch 35, CIFAR-10 Batch 4:  Loss:     0.0148 Validation Accuracy: 0.699200 \n",
      "Epoch 35, CIFAR-10 Batch 5:  Loss:     0.0351 Validation Accuracy: 0.704000 \n",
      "Epoch 36, CIFAR-10 Batch 1:  Loss:     0.0282 Validation Accuracy: 0.709400 \n",
      "Epoch 36, CIFAR-10 Batch 2:  Loss:     0.0162 Validation Accuracy: 0.697800 \n",
      "Epoch 36, CIFAR-10 Batch 3:  Loss:     0.0051 Validation Accuracy: 0.708400 \n",
      "Epoch 36, CIFAR-10 Batch 4:  Loss:     0.0351 Validation Accuracy: 0.707000 \n",
      "Epoch 36, CIFAR-10 Batch 5:  Loss:     0.0142 Validation Accuracy: 0.709000 \n",
      "Epoch 37, CIFAR-10 Batch 1:  Loss:     0.0521 Validation Accuracy: 0.704000 \n",
      "Epoch 37, CIFAR-10 Batch 2:  Loss:     0.0440 Validation Accuracy: 0.710000 \n",
      "Epoch 37, CIFAR-10 Batch 3:  Loss:     0.0043 Validation Accuracy: 0.711200 \n",
      "Epoch 37, CIFAR-10 Batch 4:  Loss:     0.0873 Validation Accuracy: 0.718800 \n",
      "Epoch 37, CIFAR-10 Batch 5:  Loss:     0.0161 Validation Accuracy: 0.704000 \n",
      "Epoch 38, CIFAR-10 Batch 1:  Loss:     0.0418 Validation Accuracy: 0.709200 \n",
      "Epoch 38, CIFAR-10 Batch 2:  Loss:     0.0107 Validation Accuracy: 0.696200 \n",
      "Epoch 38, CIFAR-10 Batch 3:  Loss:     0.0015 Validation Accuracy: 0.698800 \n",
      "Epoch 38, CIFAR-10 Batch 4:  Loss:     0.0415 Validation Accuracy: 0.705600 \n",
      "Epoch 38, CIFAR-10 Batch 5:  Loss:     0.0319 Validation Accuracy: 0.698600 \n",
      "Epoch 39, CIFAR-10 Batch 1:  Loss:     0.1003 Validation Accuracy: 0.700200 \n",
      "Epoch 39, CIFAR-10 Batch 2:  Loss:     0.0050 Validation Accuracy: 0.699400 \n",
      "Epoch 39, CIFAR-10 Batch 3:  Loss:     0.0348 Validation Accuracy: 0.702600 \n",
      "Epoch 39, CIFAR-10 Batch 4:  Loss:     0.0183 Validation Accuracy: 0.699600 \n",
      "Epoch 39, CIFAR-10 Batch 5:  Loss:     0.0072 Validation Accuracy: 0.709600 \n",
      "Epoch 40, CIFAR-10 Batch 1:  Loss:     0.0383 Validation Accuracy: 0.713200 \n",
      "Epoch 40, CIFAR-10 Batch 2:  Loss:     0.0030 Validation Accuracy: 0.711000 \n",
      "Epoch 40, CIFAR-10 Batch 3:  Loss:     0.0056 Validation Accuracy: 0.696800 \n",
      "Epoch 40, CIFAR-10 Batch 4:  Loss:     0.0394 Validation Accuracy: 0.701200 \n",
      "Epoch 40, CIFAR-10 Batch 5:  Loss:     0.0477 Validation Accuracy: 0.711600 \n"
     ]
    }
   ],
   "source": [
    "\"\"\"\n",
    "DON'T MODIFY ANYTHING IN THIS CELL\n",
    "\"\"\"\n",
    "save_model_path = './image_classification'\n",
    "\n",
    "print('Training...')\n",
    "with tf.Session() as sess:\n",
    "    # Initializing the variables\n",
    "    sess.run(tf.global_variables_initializer())\n",
    "    \n",
    "    # Training cycle\n",
    "    for epoch in range(epochs):\n",
    "        # Loop over all batches\n",
    "        n_batches = 5\n",
    "        for batch_i in range(1, n_batches + 1):\n",
    "            for batch_features, batch_labels in helper.load_preprocess_training_batch(batch_i, batch_size):\n",
    "                train_neural_network(sess, optimizer, keep_probability, batch_features, batch_labels)\n",
    "            print('Epoch {:>2}, CIFAR-10 Batch {}:  '.format(epoch + 1, batch_i), end='')\n",
    "            print_stats(sess, batch_features, batch_labels, cost, accuracy)\n",
    "            \n",
    "    # Save Model\n",
    "    saver = tf.train.Saver()\n",
    "    save_path = saver.save(sess, save_model_path)"
   ]
  },
  {
   "cell_type": "markdown",
   "metadata": {},
   "source": [
    "# Checkpoint\n",
    "The model has been saved to disk.\n",
    "## Test Model\n",
    "Test your model against the test dataset.  This will be your final accuracy. You should have an accuracy greater than 50%. If you don't, keep tweaking the model architecture and parameters."
   ]
  },
  {
   "cell_type": "code",
   "execution_count": 41,
   "metadata": {},
   "outputs": [
    {
     "name": "stdout",
     "output_type": "stream",
     "text": [
      "Testing Accuracy: 0.700751582278481\n",
      "\n"
     ]
    },
    {
     "data": {
      "image/png": "[encoded data removed]",
      "text/plain": [
       "<matplotlib.figure.Figure at 0x7f684c941940>"
      ]
     },
     "metadata": {
      "image/png": {
       "height": 319,
       "width": 355
      }
     },
     "output_type": "display_data"
    }
   ],
   "source": [
    "\"\"\"\n",
    "DON'T MODIFY ANYTHING IN THIS CELL\n",
    "\"\"\"\n",
    "%matplotlib inline\n",
    "%config InlineBackend.figure_format = 'retina'\n",
    "\n",
    "import tensorflow as tf\n",
    "import pickle\n",
    "import helper\n",
    "import random\n",
    "\n",
    "# Set batch size if not already set\n",
    "try:\n",
    "    if batch_size:\n",
    "        pass\n",
    "except NameError:\n",
    "    batch_size = 64\n",
    "\n",
    "save_model_path = './image_classification'\n",
    "n_samples = 4\n",
    "top_n_predictions = 3\n",
    "\n",
    "def test_model():\n",
    "    \"\"\"\n",
    "    Test the saved model against the test dataset\n",
    "    \"\"\"\n",
    "\n",
    "    test_features, test_labels = pickle.load(open('preprocess_test.p', mode='rb'))\n",
    "    loaded_graph = tf.Graph()\n",
    "\n",
    "    with tf.Session(graph=loaded_graph) as sess:\n",
    "        # Load model\n",
    "        loader = tf.train.import_meta_graph(save_model_path + '.meta')\n",
    "        loader.restore(sess, save_model_path)\n",
    "\n",
    "        # Get Tensors from loaded model\n",
    "        loaded_x = loaded_graph.get_tensor_by_name('x:0')\n",
    "        loaded_y = loaded_graph.get_tensor_by_name('y:0')\n",
    "        loaded_keep_prob = loaded_graph.get_tensor_by_name('keep_prob:0')\n",
    "        loaded_logits = loaded_graph.get_tensor_by_name('logits:0')\n",
    "        loaded_acc = loaded_graph.get_tensor_by_name('accuracy:0')\n",
    "        \n",
    "        # Get accuracy in batches for memory limitations\n",
    "        test_batch_acc_total = 0\n",
    "        test_batch_count = 0\n",
    "        \n",
    "        for test_feature_batch, test_label_batch in helper.batch_features_labels(test_features, test_labels, batch_size):\n",
    "            test_batch_acc_total += sess.run(\n",
    "                loaded_acc,\n",
    "                feed_dict={loaded_x: test_feature_batch, loaded_y: test_label_batch, loaded_keep_prob: 1.0})\n",
    "            test_batch_count += 1\n",
    "\n",
    "        print('Testing Accuracy: {}\\n'.format(test_batch_acc_total/test_batch_count))\n",
    "\n",
    "        # Print Random Samples\n",
    "        random_test_features, random_test_labels = tuple(zip(*random.sample(list(zip(test_features, test_labels)), n_samples)))\n",
    "        random_test_predictions = sess.run(\n",
    "            tf.nn.top_k(tf.nn.softmax(loaded_logits), top_n_predictions),\n",
    "            feed_dict={loaded_x: random_test_features, loaded_y: random_test_labels, loaded_keep_prob: 1.0})\n",
    "        helper.display_image_predictions(random_test_features, random_test_labels, random_test_predictions)\n",
    "\n",
    "\n",
    "test_model()"
   ]
  },
  {
   "cell_type": "markdown",
   "metadata": {},
   "source": [
    "## Why 50-80% Accuracy?\n",
    "You might be wondering why you can't get an accuracy any higher. First things first, 50% isn't bad for a simple CNN.  Pure guessing would get you 10% accuracy. However, you might notice people are getting scores [well above 80%](http://rodrigob.github.io/are_we_there_yet/build/classification_datasets_results.html#43494641522d3130).  That's because we haven't taught you all there is to know about neural networks. We still need to cover a few more techniques.\n",
    "## Submitting This Project\n",
    "When submitting this project, make sure to run all the cells before saving the notebook.  Save the notebook file as \"dlnd_image_classification.ipynb\" and save it as a HTML file under \"File\" -> \"Download as\".  Include the \"helper.py\" and \"problem_unittests.py\" files in your submission."
   ]
  }
 ],
 "metadata": {
  "kernelspec": {
   "display_name": "Python 3",
   "language": "python",
   "name": "python3"
  },
  "language_info": {
   "codemirror_mode": {
    "name": "ipython",
    "version": 3
   },
   "file_extension": ".py",
   "mimetype": "text/x-python",
   "name": "python",
   "nbconvert_exporter": "python",
   "pygments_lexer": "ipython3",
   "version": "3.6.1"
  }
 },
 "nbformat": 4,
 "nbformat_minor": 1
}
