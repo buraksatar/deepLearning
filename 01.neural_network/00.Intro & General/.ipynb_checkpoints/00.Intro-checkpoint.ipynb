{
 "cells": [
  {
   "cell_type": "markdown",
   "metadata": {},
   "source": [
    "# Neural Networks\n",
    "\n",
    "### What is all?\n",
    "\n",
    "\n",
    "Scikit-learn\n",
    "- An extremely popular Machine Learning library for python.\n",
    "\n",
    "Perceptrons\n",
    "- The simplest form of a neural network.\n",
    "\n",
    "Gradient Descent\n",
    "- A process by which Machine Learning algorithms learn to improve themselves based on the accuracy of their predictions. \n",
    "\n",
    "Backpropagation\n",
    "- The process by which neural networks learn how to improve individual parameters. \n",
    "\n",
    "Numpy\n",
    "- An extremely popular library for scientific computing in python.\n",
    "\n",
    "Tensorflow\n",
    "- One of the most popular python libraries for creating neural networks. It is maintained by Google.\n",
    "\n",
    "We'll learn more about those."
   ]
  }
 ],
 "metadata": {
  "kernelspec": {
   "display_name": "Python 3",
   "language": "python",
   "name": "python3"
  },
  "language_info": {
   "codemirror_mode": {
    "name": "ipython",
    "version": 3
   },
   "file_extension": ".py",
   "mimetype": "text/x-python",
   "name": "python",
   "nbconvert_exporter": "python",
   "pygments_lexer": "ipython3",
   "version": "3.6.1"
  }
 },
 "nbformat": 4,
 "nbformat_minor": 2
}
