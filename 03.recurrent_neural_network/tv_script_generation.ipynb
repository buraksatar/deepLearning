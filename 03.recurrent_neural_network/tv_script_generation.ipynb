{
 "cells": [
  {
   "cell_type": "markdown",
   "metadata": {
    "deletable": true,
    "editable": true
   },
   "source": [
    "# TV Script Generation\n",
    "In this project, you'll generate your own [Simpsons](https://en.wikipedia.org/wiki/The_Simpsons) TV scripts using RNNs.  You'll be using part of the [Simpsons dataset](https://www.kaggle.com/wcukierski/the-simpsons-by-the-data) of scripts from 27 seasons.  The Neural Network you'll build will generate a new TV script for a scene at [Moe's Tavern](https://simpsonswiki.com/wiki/Moe's_Tavern).\n",
    "## Get the Data\n",
    "The data is already provided for you.  You'll be using a subset of the original dataset.  It consists of only the scenes in Moe's Tavern.  This doesn't include other versions of the tavern, like \"Moe's Cavern\", \"Flaming Moe's\", \"Uncle Moe's Family Feed-Bag\", etc.."
   ]
  },
  {
   "cell_type": "code",
   "execution_count": 1,
   "metadata": {
    "collapsed": false,
    "deletable": true,
    "editable": true
   },
   "outputs": [],
   "source": [
    "\"\"\"\n",
    "DON'T MODIFY ANYTHING IN THIS CELL\n",
    "\"\"\"\n",
    "import helper\n",
    "\n",
    "data_dir = './data/simpsons/moes_tavern_lines.txt'\n",
    "text = helper.load_data(data_dir)\n",
    "# Ignore notice, since we don't use it for analysing the data\n",
    "text = text[81:]"
   ]
  },
  {
   "cell_type": "markdown",
   "metadata": {
    "deletable": true,
    "editable": true
   },
   "source": [
    "## Explore the Data\n",
    "Play around with `view_sentence_range` to view different parts of the data."
   ]
  },
  {
   "cell_type": "code",
   "execution_count": 3,
   "metadata": {
    "collapsed": false,
    "deletable": true,
    "editable": true
   },
   "outputs": [
    {
     "name": "stdout",
     "output_type": "stream",
     "text": [
      "Dataset Stats\n",
      "Roughly the number of unique words: 11492\n",
      "Number of scenes: 262\n",
      "Average number of sentences in each scene: 15.248091603053435\n",
      "Number of lines: 4257\n",
      "Average number of words in each line: 11.50434578341555\n",
      "\n",
      "The sentences 20 to 30:\n",
      "\n",
      "Moe_Szyslak: Looks like this is the end.\n",
      "Barney_Gumble: That's all right. I couldn't have led a richer life.\n",
      "Barney_Gumble: So the next time somebody tells you county folk are good, honest people, you can spit in their faces for me!\n",
      "Lisa_Simpson: I will, Mr. Gumbel. But if you'll excuse me, I'm profiling my dad for the school paper. I thought it would be neat to follow him around for a day to see what makes him tick.\n",
      "Barney_Gumble: Oh, that's sweet. I used to follow my dad to a lot of bars too. (BELCH)\n",
      "Moe_Szyslak: Here you go. One beer, one chocolate milk.\n",
      "Lisa_Simpson: Uh, excuse me, I have the chocolate milk.\n",
      "Moe_Szyslak: Oh.\n",
      "Moe_Szyslak: What's the matter, Homer? The depressin' effects of alcohol usually don't kick in 'til closing time.\n"
     ]
    }
   ],
   "source": [
    "view_sentence_range = (20, 30)\n",
    "\n",
    "\"\"\"\n",
    "DON'T MODIFY ANYTHING IN THIS CELL\n",
    "\"\"\"\n",
    "import numpy as np\n",
    "\n",
    "print('Dataset Stats')\n",
    "print('Roughly the number of unique words: {}'.format(len({word: None for word in text.split()})))\n",
    "scenes = text.split('\\n\\n')\n",
    "print('Number of scenes: {}'.format(len(scenes)))\n",
    "sentence_count_scene = [scene.count('\\n') for scene in scenes]\n",
    "print('Average number of sentences in each scene: {}'.format(np.average(sentence_count_scene)))\n",
    "\n",
    "sentences = [sentence for scene in scenes for sentence in scene.split('\\n')]\n",
    "print('Number of lines: {}'.format(len(sentences)))\n",
    "word_count_sentence = [len(sentence.split()) for sentence in sentences]\n",
    "print('Average number of words in each line: {}'.format(np.average(word_count_sentence)))\n",
    "\n",
    "print()\n",
    "print('The sentences {} to {}:'.format(*view_sentence_range))\n",
    "print('\\n'.join(text.split('\\n')[view_sentence_range[0]:view_sentence_range[1]]))"
   ]
  },
  {
   "cell_type": "markdown",
   "metadata": {
    "deletable": true,
    "editable": true
   },
   "source": [
    "## Implement Preprocessing Functions\n",
    "The first thing to do to any dataset is preprocessing.  Implement the following preprocessing functions below:\n",
    "- Lookup Table\n",
    "- Tokenize Punctuation\n",
    "\n",
    "### Lookup Table\n",
    "To create a word embedding, you first need to transform the words to ids.  In this function, create two dictionaries:\n",
    "- Dictionary to go from the words to an id, we'll call `vocab_to_int`\n",
    "- Dictionary to go from the id to word, we'll call `int_to_vocab`\n",
    "\n",
    "Return these dictionaries in the following tuple `(vocab_to_int, int_to_vocab)`"
   ]
  },
  {
   "cell_type": "code",
   "execution_count": 4,
   "metadata": {
    "collapsed": false,
    "deletable": true,
    "editable": true
   },
   "outputs": [
    {
     "name": "stdout",
     "output_type": "stream",
     "text": [
      "Tests Passed\n"
     ]
    }
   ],
   "source": [
    "import numpy as np\n",
    "import problem_unittests as tests\n",
    "from collections import Counter\n",
    "\n",
    "def create_lookup_tables(text):\n",
    "    \"\"\"\n",
    "    Create lookup tables for vocabulary\n",
    "    :param text: The text of tv scripts split into words\n",
    "    :return: A tuple of dicts (vocab_to_int, int_to_vocab)\n",
    "    \"\"\"\n",
    "    # DONE: Implement Function\n",
    "    word_counts = Counter(text)\n",
    "    sorted_vocab = sorted(word_counts, key=word_counts.get, reverse=True)\n",
    "    int_to_vocab = {index: text for index, text in enumerate(sorted_vocab)}\n",
    "    vocab_to_int = {text: index for index, text in int_to_vocab.items()}\n",
    "\n",
    "    return vocab_to_int, int_to_vocab\n",
    "\n",
    "\"\"\"\n",
    "DON'T MODIFY ANYTHING IN THIS CELL THAT IS BELOW THIS LINE\n",
    "\"\"\"\n",
    "tests.test_create_lookup_tables(create_lookup_tables)"
   ]
  },
  {
   "cell_type": "markdown",
   "metadata": {
    "deletable": true,
    "editable": true
   },
   "source": [
    "### Tokenize Punctuation\n",
    "We'll be splitting the script into a word array using spaces as delimiters.  However, punctuations like periods and exclamation marks make it hard for the neural network to distinguish between the word \"bye\" and \"bye!\".\n",
    "\n",
    "Implement the function `token_lookup` to return a dict that will be used to tokenize symbols like \"!\" into \"||Exclamation_Mark||\".  Create a dictionary for the following symbols where the symbol is the key and value is the token:\n",
    "- Period ( . )\n",
    "- Comma ( , )\n",
    "- Quotation Mark ( \" )\n",
    "- Semicolon ( ; )\n",
    "- Exclamation mark ( ! )\n",
    "- Question mark ( ? )\n",
    "- Left Parentheses ( ( )\n",
    "- Right Parentheses ( ) )\n",
    "- Dash ( -- )\n",
    "- Return ( \\n )\n",
    "\n",
    "This dictionary will be used to token the symbols and add the delimiter (space) around it.  This separates the symbols as it's own word, making it easier for the neural network to predict on the next word. Make sure you don't use a token that could be confused as a word. Instead of using the token \"dash\", try using something like \"||dash||\"."
   ]
  },
  {
   "cell_type": "code",
   "execution_count": 5,
   "metadata": {
    "collapsed": false,
    "deletable": true,
    "editable": true
   },
   "outputs": [
    {
     "name": "stdout",
     "output_type": "stream",
     "text": [
      "Tests Passed\n"
     ]
    }
   ],
   "source": [
    "def token_lookup():\n",
    "    \"\"\"\n",
    "    Generate a dict to turn punctuation into a token.\n",
    "    :return: Tokenize dictionary where the key is the punctuation and the value is the token\n",
    "    \"\"\"\n",
    "    # DONE: Implement Function\n",
    "    token_dict = {\n",
    "        '.': '<<period>>',\n",
    "        ',': '<<comma>>',\n",
    "        '\"': '<<quotation_mark>>',\n",
    "        ';': '<<semicolon>>',\n",
    "        '!': '<<exclamation_mark>>',\n",
    "        '?': '<<question_mark>>',\n",
    "        '(': '<<left_parentheses>>',\n",
    "        ')': '<<right_parentheses>>',\n",
    "        '--': '<<dash>>',\n",
    "        '\\n': '<<return>>',\n",
    "    }\n",
    "    \n",
    "    return token_dict\n",
    "\n",
    "\"\"\"\n",
    "DON'T MODIFY ANYTHING IN THIS CELL THAT IS BELOW THIS LINE\n",
    "\"\"\"\n",
    "tests.test_tokenize(token_lookup)"
   ]
  },
  {
   "cell_type": "markdown",
   "metadata": {
    "deletable": true,
    "editable": true
   },
   "source": [
    "## Preprocess all the data and save it\n",
    "Running the code cell below will preprocess all the data and save it to file."
   ]
  },
  {
   "cell_type": "code",
   "execution_count": 6,
   "metadata": {
    "collapsed": false,
    "deletable": true,
    "editable": true
   },
   "outputs": [],
   "source": [
    "\"\"\"\n",
    "DON'T MODIFY ANYTHING IN THIS CELL\n",
    "\"\"\"\n",
    "# Preprocess Training, Validation, and Testing Data\n",
    "helper.preprocess_and_save_data(data_dir, token_lookup, create_lookup_tables)"
   ]
  },
  {
   "cell_type": "markdown",
   "metadata": {
    "deletable": true,
    "editable": true
   },
   "source": [
    "# Check Point\n",
    "This is your first checkpoint. If you ever decide to come back to this notebook or have to restart the notebook, you can start from here. The preprocessed data has been saved to disk."
   ]
  },
  {
   "cell_type": "code",
   "execution_count": 7,
   "metadata": {
    "collapsed": false,
    "deletable": true,
    "editable": true
   },
   "outputs": [],
   "source": [
    "\"\"\"\n",
    "DON'T MODIFY ANYTHING IN THIS CELL\n",
    "\"\"\"\n",
    "import helper\n",
    "import numpy as np\n",
    "import problem_unittests as tests\n",
    "\n",
    "int_text, vocab_to_int, int_to_vocab, token_dict = helper.load_preprocess()"
   ]
  },
  {
   "cell_type": "markdown",
   "metadata": {
    "deletable": true,
    "editable": true
   },
   "source": [
    "## Build the Neural Network\n",
    "You'll build the components necessary to build a RNN by implementing the following functions below:\n",
    "- get_inputs\n",
    "- get_init_cell\n",
    "- get_embed\n",
    "- build_rnn\n",
    "- build_nn\n",
    "- get_batches\n",
    "\n",
    "### Check the Version of TensorFlow and Access to GPU"
   ]
  },
  {
   "cell_type": "code",
   "execution_count": 8,
   "metadata": {
    "collapsed": false,
    "deletable": true,
    "editable": true
   },
   "outputs": [
    {
     "name": "stdout",
     "output_type": "stream",
     "text": [
      "TensorFlow Version: 1.0.0\n",
      "Default GPU Device: /gpu:0\n"
     ]
    }
   ],
   "source": [
    "\"\"\"\n",
    "DON'T MODIFY ANYTHING IN THIS CELL\n",
    "\"\"\"\n",
    "from distutils.version import LooseVersion\n",
    "import warnings\n",
    "import tensorflow as tf\n",
    "\n",
    "# Check TensorFlow Version\n",
    "assert LooseVersion(tf.__version__) >= LooseVersion('1.0'), 'Please use TensorFlow version 1.0 or newer'\n",
    "print('TensorFlow Version: {}'.format(tf.__version__))\n",
    "\n",
    "# Check for a GPU\n",
    "if not tf.test.gpu_device_name():\n",
    "    warnings.warn('No GPU found. Please use a GPU to train your neural network.')\n",
    "else:\n",
    "    print('Default GPU Device: {}'.format(tf.test.gpu_device_name()))"
   ]
  },
  {
   "cell_type": "markdown",
   "metadata": {
    "deletable": true,
    "editable": true
   },
   "source": [
    "### Input\n",
    "Implement the `get_inputs()` function to create TF Placeholders for the Neural Network.  It should create the following placeholders:\n",
    "- Input text placeholder named \"input\" using the [TF Placeholder](https://www.tensorflow.org/api_docs/python/tf/placeholder) `name` parameter.\n",
    "- Targets placeholder\n",
    "- Learning Rate placeholder\n",
    "\n",
    "Return the placeholders in the following the tuple `(Input, Targets, LearingRate)`"
   ]
  },
  {
   "cell_type": "code",
   "execution_count": 9,
   "metadata": {
    "collapsed": false,
    "deletable": true,
    "editable": true
   },
   "outputs": [
    {
     "name": "stdout",
     "output_type": "stream",
     "text": [
      "Tests Passed\n"
     ]
    }
   ],
   "source": [
    "def get_inputs():\n",
    "    \"\"\"\n",
    "    Create TF Placeholders for input, targets, and learning rate.\n",
    "    :return: Tuple (input, targets, learning rate)\n",
    "    \"\"\"\n",
    "    # DONE: Implement Function\n",
    "    inputs = tf.placeholder(tf.int32, [None, None], name='input')\n",
    "    targets = tf.placeholder(tf.int32, [None, None], name='targets')\n",
    "    learning_rate = tf.placeholder(tf.float32, name='learning_rate')\n",
    "    \n",
    "    return inputs, targets, learning_rate\n",
    "\n",
    "\n",
    "\"\"\"\n",
    "DON'T MODIFY ANYTHING IN THIS CELL THAT IS BELOW THIS LINE\n",
    "\"\"\"\n",
    "tests.test_get_inputs(get_inputs)"
   ]
  },
  {
   "cell_type": "markdown",
   "metadata": {
    "deletable": true,
    "editable": true
   },
   "source": [
    "### Build RNN Cell and Initialize\n",
    "Stack one or more [`BasicLSTMCells`](https://www.tensorflow.org/api_docs/python/tf/contrib/rnn/BasicLSTMCell) in a [`MultiRNNCell`](https://www.tensorflow.org/api_docs/python/tf/contrib/rnn/MultiRNNCell).\n",
    "- The Rnn size should be set using `rnn_size`\n",
    "- Initalize Cell State using the MultiRNNCell's [`zero_state()`](https://www.tensorflow.org/api_docs/python/tf/contrib/rnn/MultiRNNCell#zero_state) function\n",
    "    - Apply the name \"initial_state\" to the initial state using [`tf.identity()`](https://www.tensorflow.org/api_docs/python/tf/identity)\n",
    "\n",
    "Return the cell and initial state in the following tuple `(Cell, InitialState)`"
   ]
  },
  {
   "cell_type": "code",
   "execution_count": 22,
   "metadata": {
    "collapsed": false,
    "deletable": true,
    "editable": true
   },
   "outputs": [
    {
     "name": "stdout",
     "output_type": "stream",
     "text": [
      "Tests Passed\n"
     ]
    }
   ],
   "source": [
    "def get_init_cell(batch_size, rnn_size):\n",
    "    \"\"\"\n",
    "    Create an RNN Cell and initialize it.\n",
    "    :param batch_size: Size of batches\n",
    "    :param rnn_size: Size of RNNs\n",
    "    :return: Tuple (cell, initialize state)\n",
    "    \"\"\"\n",
    "    # DONE: Implement Function\n",
    "    lstm_layers = 2\n",
    "    keep_prob = 0.5\n",
    "    \n",
    "    # Use a basic LSTM cell\n",
    "    lstm = tf.contrib.rnn.BasicLSTMCell(rnn_size)\n",
    "    # Add dropout to the cell\n",
    "    drop = tf.contrib.rnn.DropoutWrapper(lstm, output_keep_prob=keep_prob)\n",
    "    \n",
    "    # Stack up multiple LSTM layers, for deep learning\n",
    "    cell = tf.contrib.rnn.MultiRNNCell([drop] * lstm_layers)\n",
    "    initial_state = tf.identity(cell.zero_state(batch_size, tf.float32), name=\"initial_state\")\n",
    "    \n",
    "    return cell, initial_state\n",
    "\n",
    "\n",
    "\"\"\"\n",
    "DON'T MODIFY ANYTHING IN THIS CELL THAT IS BELOW THIS LINE\n",
    "\"\"\"\n",
    "tests.test_get_init_cell(get_init_cell)"
   ]
  },
  {
   "cell_type": "markdown",
   "metadata": {
    "deletable": true,
    "editable": true
   },
   "source": [
    "### Word Embedding\n",
    "Apply embedding to `input_data` using TensorFlow.  Return the embedded sequence."
   ]
  },
  {
   "cell_type": "code",
   "execution_count": 23,
   "metadata": {
    "collapsed": false,
    "deletable": true,
    "editable": true
   },
   "outputs": [
    {
     "name": "stdout",
     "output_type": "stream",
     "text": [
      "Tests Passed\n"
     ]
    }
   ],
   "source": [
    "def get_embed(input_data, vocab_size, embed_dim):\n",
    "    \"\"\"\n",
    "    Create embedding for <input_data>.\n",
    "    :param input_data: TF placeholder for text input.\n",
    "    :param vocab_size: Number of words in vocabulary.\n",
    "    :param embed_dim: Number of embedding dimensions\n",
    "    :return: Embedded input.\n",
    "    \"\"\"\n",
    "    # DONE: Implement Function\n",
    "    #with graph.as_default():\n",
    "    \n",
    "    embedding = tf.Variable(tf.random_uniform((vocab_size, embed_dim), -1, 1))\n",
    "    embed = tf.nn.embedding_lookup(embedding, input_data)\n",
    "    \n",
    "    return embed\n",
    "\n",
    "\n",
    "\"\"\"\n",
    "DON'T MODIFY ANYTHING IN THIS CELL THAT IS BELOW THIS LINE\n",
    "\"\"\"\n",
    "tests.test_get_embed(get_embed)"
   ]
  },
  {
   "cell_type": "markdown",
   "metadata": {
    "deletable": true,
    "editable": true
   },
   "source": [
    "### Build RNN\n",
    "You created a RNN Cell in the `get_init_cell()` function.  Time to use the cell to create a RNN.\n",
    "- Build the RNN using the [`tf.nn.dynamic_rnn()`](https://www.tensorflow.org/api_docs/python/tf/nn/dynamic_rnn)\n",
    " - Apply the name \"final_state\" to the final state using [`tf.identity()`](https://www.tensorflow.org/api_docs/python/tf/identity)\n",
    "\n",
    "Return the outputs and final_state state in the following tuple `(Outputs, FinalState)` "
   ]
  },
  {
   "cell_type": "code",
   "execution_count": 24,
   "metadata": {
    "collapsed": false,
    "deletable": true,
    "editable": true
   },
   "outputs": [
    {
     "name": "stdout",
     "output_type": "stream",
     "text": [
      "Tests Passed\n"
     ]
    }
   ],
   "source": [
    "def build_rnn(cell, inputs):\n",
    "    \"\"\"\n",
    "    Create a RNN using a RNN Cell\n",
    "    :param cell: RNN Cell\n",
    "    :param inputs: Input text data\n",
    "    :return: Tuple (Outputs, Final State)\n",
    "    \"\"\"\n",
    "    # DONE: Implement Function\n",
    "    #embed_size = 100\n",
    "    #vocab_size = 100\n",
    "    #embed = get_embed(inputs, vocab_size, embed_size)\n",
    "    #outputs, final_state = tf.nn.dynamic_rnn(cell, embed, initial_state=initial_state)\n",
    "    \n",
    "    outputs, state = tf.nn.dynamic_rnn(cell, inputs, dtype=tf.float32)\n",
    "    final_state = tf.identity(state, name = 'final_state')\n",
    "    \n",
    "    return outputs, final_state\n",
    "\n",
    "\n",
    "\"\"\"\n",
    "DON'T MODIFY ANYTHING IN THIS CELL THAT IS BELOW THIS LINE\n",
    "\"\"\"\n",
    "tests.test_build_rnn(build_rnn)"
   ]
  },
  {
   "cell_type": "markdown",
   "metadata": {
    "deletable": true,
    "editable": true
   },
   "source": [
    "### Build the Neural Network\n",
    "Apply the functions you implemented above to:\n",
    "- Apply embedding to `input_data` using your `get_embed(input_data, vocab_size, embed_dim)` function.\n",
    "- Build RNN using `cell` and your `build_rnn(cell, inputs)` function.\n",
    "- Apply a fully connected layer with a linear activation and `vocab_size` as the number of outputs.\n",
    "\n",
    "Return the logits and final state in the following tuple (Logits, FinalState) "
   ]
  },
  {
   "cell_type": "code",
   "execution_count": 25,
   "metadata": {
    "collapsed": false,
    "deletable": true,
    "editable": true
   },
   "outputs": [
    {
     "name": "stdout",
     "output_type": "stream",
     "text": [
      "Tests Passed\n"
     ]
    }
   ],
   "source": [
    "def build_nn(cell, rnn_size, input_data, vocab_size):\n",
    "    \"\"\"\n",
    "    Build part of the neural network\n",
    "    :param cell: RNN cell\n",
    "    :param rnn_size: Size of rnns\n",
    "    :param input_data: Input data\n",
    "    :param vocab_size: Vocabulary size\n",
    "    :return: Tuple (Logits, FinalState)\n",
    "    \"\"\"\n",
    "    # DONE: Implement Function\n",
    "    build_rnn_input = get_embed(input_data, vocab_size, rnn_size)\n",
    "    outputs, final_state = build_rnn(cell, build_rnn_input)\n",
    "    logits = tf.contrib.layers.fully_connected(outputs, vocab_size, activation_fn=None)\n",
    "    \n",
    "    return logits, final_state\n",
    "\n",
    "\n",
    "\"\"\"\n",
    "DON'T MODIFY ANYTHING IN THIS CELL THAT IS BELOW THIS LINE\n",
    "\"\"\"\n",
    "tests.test_build_nn(build_nn)"
   ]
  },
  {
   "cell_type": "markdown",
   "metadata": {
    "deletable": true,
    "editable": true
   },
   "source": [
    "### Batches\n",
    "Implement `get_batches` to create batches of input and targets using `int_text`.  The batches should be a Numpy array with the shape `(number of batches, 2, batch size, sequence length)`. Each batch contains two elements:\n",
    "- The first element is a single batch of **input** with the shape `[batch size, sequence length]`\n",
    "- The second element is a single batch of **targets** with the shape `[batch size, sequence length]`\n",
    "\n",
    "If you can't fill the last batch with enough data, drop the last batch.\n",
    "\n",
    "For exmple, `get_batches([1, 2, 3, 4, 5, 6, 7, 8, 9, 10, 11, 12, 13, 14, 15], 2, 3)` would return a Numpy array of the following:\n",
    "```\n",
    "[\n",
    "  # First Batch\n",
    "  [\n",
    "    # Batch of Input\n",
    "    [[ 1  2  3], [ 7  8  9]],\n",
    "    # Batch of targets\n",
    "    [[ 2  3  4], [ 8  9 10]]\n",
    "  ],\n",
    " \n",
    "  # Second Batch\n",
    "  [\n",
    "    # Batch of Input\n",
    "    [[ 4  5  6], [10 11 12]],\n",
    "    # Batch of targets\n",
    "    [[ 5  6  7], [11 12 13]]\n",
    "  ]\n",
    "]\n",
    "```"
   ]
  },
  {
   "cell_type": "code",
   "execution_count": 26,
   "metadata": {
    "collapsed": false,
    "deletable": true,
    "editable": true
   },
   "outputs": [
    {
     "name": "stdout",
     "output_type": "stream",
     "text": [
      "Tests Passed\n"
     ]
    }
   ],
   "source": [
    "def get_batches(int_text, batch_size, seq_length):\n",
    "    \"\"\"\n",
    "    Return batches of input and target\n",
    "    :param int_text: Text with the words replaced by their ids\n",
    "    :param batch_size: The size of batch\n",
    "    :param seq_length: The length of sequence\n",
    "    :return: Batches as a Numpy array\n",
    "    \"\"\"\n",
    "    # DONE: Implement Function\n",
    "    n_batches = int(len(int_text) / (batch_size * seq_length))\n",
    "\n",
    "    # Drop the last few characters to make only full batches\n",
    "    xdata = np.array(int_text[: n_batches * batch_size * seq_length])\n",
    "    ydata = np.array(int_text[1: n_batches * batch_size * seq_length + 1])\n",
    "\n",
    "    x_batches = np.split(xdata.reshape(batch_size, -1), n_batches, 1)\n",
    "    y_batches = np.split(ydata.reshape(batch_size, -1), n_batches, 1)\n",
    "\n",
    "    return np.asarray(list(zip(x_batches, y_batches)))\n",
    "\n",
    "\n",
    "\"\"\"\n",
    "DON'T MODIFY ANYTHING IN THIS CELL THAT IS BELOW THIS LINE\n",
    "\"\"\"\n",
    "tests.test_get_batches(get_batches)"
   ]
  },
  {
   "cell_type": "markdown",
   "metadata": {
    "deletable": true,
    "editable": true
   },
   "source": [
    "## Neural Network Training\n",
    "### Hyperparameters\n",
    "Tune the following parameters:\n",
    "\n",
    "- Set `num_epochs` to the number of epochs.\n",
    "- Set `batch_size` to the batch size.\n",
    "- Set `rnn_size` to the size of the RNNs.\n",
    "- Set `seq_length` to the length of sequence.\n",
    "- Set `learning_rate` to the learning rate.\n",
    "- Set `show_every_n_batches` to the number of batches the neural network should print progress."
   ]
  },
  {
   "cell_type": "code",
   "execution_count": 30,
   "metadata": {
    "collapsed": true,
    "deletable": true,
    "editable": true
   },
   "outputs": [],
   "source": [
    "# Number of Epochs\n",
    "num_epochs = 200\n",
    "# Batch Size\n",
    "batch_size = 64\n",
    "# RNN Size\n",
    "rnn_size = 512\n",
    "# Sequence Length\n",
    "seq_length = 32\n",
    "# Learning Rate\n",
    "learning_rate = 0.001\n",
    "# Show stats for every n number of batches\n",
    "show_every_n_batches = 15\n",
    "\n",
    "\"\"\"\n",
    "DON'T MODIFY ANYTHING IN THIS CELL THAT IS BELOW THIS LINE\n",
    "\"\"\"\n",
    "save_dir = './save'"
   ]
  },
  {
   "cell_type": "markdown",
   "metadata": {
    "deletable": true,
    "editable": true
   },
   "source": [
    "### Build the Graph\n",
    "Build the graph using the neural network you implemented."
   ]
  },
  {
   "cell_type": "code",
   "execution_count": 31,
   "metadata": {
    "collapsed": false,
    "deletable": true,
    "editable": true
   },
   "outputs": [],
   "source": [
    "\"\"\"\n",
    "DON'T MODIFY ANYTHING IN THIS CELL\n",
    "\"\"\"\n",
    "from tensorflow.contrib import seq2seq\n",
    "\n",
    "train_graph = tf.Graph()\n",
    "with train_graph.as_default():\n",
    "    vocab_size = len(int_to_vocab)\n",
    "    input_text, targets, lr = get_inputs()\n",
    "    input_data_shape = tf.shape(input_text)\n",
    "    cell, initial_state = get_init_cell(input_data_shape[0], rnn_size)\n",
    "    logits, final_state = build_nn(cell, rnn_size, input_text, vocab_size)\n",
    "\n",
    "    # Probabilities for generating words\n",
    "    probs = tf.nn.softmax(logits, name='probs')\n",
    "\n",
    "    # Loss function\n",
    "    cost = seq2seq.sequence_loss(\n",
    "        logits,\n",
    "        targets,\n",
    "        tf.ones([input_data_shape[0], input_data_shape[1]]))\n",
    "\n",
    "    # Optimizer\n",
    "    optimizer = tf.train.AdamOptimizer(lr)\n",
    "\n",
    "    # Gradient Clipping\n",
    "    gradients = optimizer.compute_gradients(cost)\n",
    "    capped_gradients = [(tf.clip_by_value(grad, -1., 1.), var) for grad, var in gradients]\n",
    "    train_op = optimizer.apply_gradients(capped_gradients)"
   ]
  },
  {
   "cell_type": "markdown",
   "metadata": {
    "deletable": true,
    "editable": true
   },
   "source": [
    "## Train\n",
    "Train the neural network on the preprocessed data.  If you have a hard time getting a good loss, check the [forms](https://discussions.udacity.com/) to see if anyone is having the same problem."
   ]
  },
  {
   "cell_type": "code",
   "execution_count": 32,
   "metadata": {
    "collapsed": false,
    "deletable": true,
    "editable": true
   },
   "outputs": [
    {
     "name": "stdout",
     "output_type": "stream",
     "text": [
      "Epoch   0 Batch    0/33   train_loss = 8.823\n",
      "Epoch   0 Batch   15/33   train_loss = 6.543\n",
      "Epoch   0 Batch   30/33   train_loss = 6.313\n",
      "Epoch   1 Batch   12/33   train_loss = 6.066\n",
      "Epoch   1 Batch   27/33   train_loss = 6.219\n",
      "Epoch   2 Batch    9/33   train_loss = 6.132\n",
      "Epoch   2 Batch   24/33   train_loss = 6.131\n",
      "Epoch   3 Batch    6/33   train_loss = 6.013\n",
      "Epoch   3 Batch   21/33   train_loss = 5.985\n",
      "Epoch   4 Batch    3/33   train_loss = 6.028\n",
      "Epoch   4 Batch   18/33   train_loss = 5.905\n",
      "Epoch   5 Batch    0/33   train_loss = 5.790\n",
      "Epoch   5 Batch   15/33   train_loss = 5.901\n",
      "Epoch   5 Batch   30/33   train_loss = 5.809\n",
      "Epoch   6 Batch   12/33   train_loss = 5.757\n",
      "Epoch   6 Batch   27/33   train_loss = 5.848\n",
      "Epoch   7 Batch    9/33   train_loss = 5.757\n",
      "Epoch   7 Batch   24/33   train_loss = 5.735\n",
      "Epoch   8 Batch    6/33   train_loss = 5.631\n",
      "Epoch   8 Batch   21/33   train_loss = 5.589\n",
      "Epoch   9 Batch    3/33   train_loss = 5.617\n",
      "Epoch   9 Batch   18/33   train_loss = 5.492\n",
      "Epoch  10 Batch    0/33   train_loss = 5.329\n",
      "Epoch  10 Batch   15/33   train_loss = 5.477\n",
      "Epoch  10 Batch   30/33   train_loss = 5.337\n",
      "Epoch  11 Batch   12/33   train_loss = 5.275\n",
      "Epoch  11 Batch   27/33   train_loss = 5.318\n",
      "Epoch  12 Batch    9/33   train_loss = 5.186\n",
      "Epoch  12 Batch   24/33   train_loss = 5.183\n",
      "Epoch  13 Batch    6/33   train_loss = 5.055\n",
      "Epoch  13 Batch   21/33   train_loss = 4.970\n",
      "Epoch  14 Batch    3/33   train_loss = 4.957\n",
      "Epoch  14 Batch   18/33   train_loss = 4.880\n",
      "Epoch  15 Batch    0/33   train_loss = 4.715\n",
      "Epoch  15 Batch   15/33   train_loss = 4.905\n",
      "Epoch  15 Batch   30/33   train_loss = 4.839\n",
      "Epoch  16 Batch   12/33   train_loss = 4.754\n",
      "Epoch  16 Batch   27/33   train_loss = 4.832\n",
      "Epoch  17 Batch    9/33   train_loss = 4.689\n",
      "Epoch  17 Batch   24/33   train_loss = 4.736\n",
      "Epoch  18 Batch    6/33   train_loss = 4.613\n",
      "Epoch  18 Batch   21/33   train_loss = 4.591\n",
      "Epoch  19 Batch    3/33   train_loss = 4.573\n",
      "Epoch  19 Batch   18/33   train_loss = 4.509\n",
      "Epoch  20 Batch    0/33   train_loss = 4.387\n",
      "Epoch  20 Batch   15/33   train_loss = 4.553\n",
      "Epoch  20 Batch   30/33   train_loss = 4.549\n",
      "Epoch  21 Batch   12/33   train_loss = 4.472\n",
      "Epoch  21 Batch   27/33   train_loss = 4.496\n",
      "Epoch  22 Batch    9/33   train_loss = 4.410\n",
      "Epoch  22 Batch   24/33   train_loss = 4.442\n",
      "Epoch  23 Batch    6/33   train_loss = 4.340\n",
      "Epoch  23 Batch   21/33   train_loss = 4.321\n",
      "Epoch  24 Batch    3/33   train_loss = 4.315\n",
      "Epoch  24 Batch   18/33   train_loss = 4.234\n",
      "Epoch  25 Batch    0/33   train_loss = 4.126\n",
      "Epoch  25 Batch   15/33   train_loss = 4.289\n",
      "Epoch  25 Batch   30/33   train_loss = 4.303\n",
      "Epoch  26 Batch   12/33   train_loss = 4.210\n",
      "Epoch  26 Batch   27/33   train_loss = 4.246\n",
      "Epoch  27 Batch    9/33   train_loss = 4.169\n",
      "Epoch  27 Batch   24/33   train_loss = 4.217\n",
      "Epoch  28 Batch    6/33   train_loss = 4.120\n",
      "Epoch  28 Batch   21/33   train_loss = 4.089\n",
      "Epoch  29 Batch    3/33   train_loss = 4.079\n",
      "Epoch  29 Batch   18/33   train_loss = 4.018\n",
      "Epoch  30 Batch    0/33   train_loss = 3.923\n",
      "Epoch  30 Batch   15/33   train_loss = 4.073\n",
      "Epoch  30 Batch   30/33   train_loss = 4.082\n",
      "Epoch  31 Batch   12/33   train_loss = 4.090\n",
      "Epoch  31 Batch   27/33   train_loss = 4.044\n",
      "Epoch  32 Batch    9/33   train_loss = 3.980\n",
      "Epoch  32 Batch   24/33   train_loss = 4.020\n",
      "Epoch  33 Batch    6/33   train_loss = 3.954\n",
      "Epoch  33 Batch   21/33   train_loss = 3.882\n",
      "Epoch  34 Batch    3/33   train_loss = 3.884\n",
      "Epoch  34 Batch   18/33   train_loss = 3.842\n",
      "Epoch  35 Batch    0/33   train_loss = 3.749\n",
      "Epoch  35 Batch   15/33   train_loss = 3.908\n",
      "Epoch  35 Batch   30/33   train_loss = 3.939\n",
      "Epoch  36 Batch   12/33   train_loss = 3.875\n",
      "Epoch  36 Batch   27/33   train_loss = 3.838\n",
      "Epoch  37 Batch    9/33   train_loss = 3.784\n",
      "Epoch  37 Batch   24/33   train_loss = 3.827\n",
      "Epoch  38 Batch    6/33   train_loss = 3.784\n",
      "Epoch  38 Batch   21/33   train_loss = 3.734\n",
      "Epoch  39 Batch    3/33   train_loss = 3.735\n",
      "Epoch  39 Batch   18/33   train_loss = 3.659\n",
      "Epoch  40 Batch    0/33   train_loss = 3.560\n",
      "Epoch  40 Batch   15/33   train_loss = 3.737\n",
      "Epoch  40 Batch   30/33   train_loss = 3.798\n",
      "Epoch  41 Batch   12/33   train_loss = 3.693\n",
      "Epoch  41 Batch   27/33   train_loss = 3.668\n",
      "Epoch  42 Batch    9/33   train_loss = 3.633\n",
      "Epoch  42 Batch   24/33   train_loss = 3.643\n",
      "Epoch  43 Batch    6/33   train_loss = 3.584\n",
      "Epoch  43 Batch   21/33   train_loss = 3.616\n",
      "Epoch  44 Batch    3/33   train_loss = 3.515\n",
      "Epoch  44 Batch   18/33   train_loss = 3.445\n",
      "Epoch  45 Batch    0/33   train_loss = 3.375\n",
      "Epoch  45 Batch   15/33   train_loss = 3.535\n",
      "Epoch  45 Batch   30/33   train_loss = 3.581\n",
      "Epoch  46 Batch   12/33   train_loss = 3.494\n",
      "Epoch  46 Batch   27/33   train_loss = 3.413\n",
      "Epoch  47 Batch    9/33   train_loss = 3.388\n",
      "Epoch  47 Batch   24/33   train_loss = 3.460\n",
      "Epoch  48 Batch    6/33   train_loss = 3.402\n",
      "Epoch  48 Batch   21/33   train_loss = 3.413\n",
      "Epoch  49 Batch    3/33   train_loss = 3.360\n",
      "Epoch  49 Batch   18/33   train_loss = 3.346\n",
      "Epoch  50 Batch    0/33   train_loss = 3.265\n",
      "Epoch  50 Batch   15/33   train_loss = 3.368\n",
      "Epoch  50 Batch   30/33   train_loss = 3.403\n",
      "Epoch  51 Batch   12/33   train_loss = 3.423\n",
      "Epoch  51 Batch   27/33   train_loss = 3.326\n",
      "Epoch  52 Batch    9/33   train_loss = 3.263\n",
      "Epoch  52 Batch   24/33   train_loss = 3.322\n",
      "Epoch  53 Batch    6/33   train_loss = 3.235\n",
      "Epoch  53 Batch   21/33   train_loss = 3.270\n",
      "Epoch  54 Batch    3/33   train_loss = 3.164\n",
      "Epoch  54 Batch   18/33   train_loss = 3.149\n",
      "Epoch  55 Batch    0/33   train_loss = 3.057\n",
      "Epoch  55 Batch   15/33   train_loss = 3.179\n",
      "Epoch  55 Batch   30/33   train_loss = 3.225\n",
      "Epoch  56 Batch   12/33   train_loss = 3.157\n",
      "Epoch  56 Batch   27/33   train_loss = 3.097\n",
      "Epoch  57 Batch    9/33   train_loss = 2.986\n",
      "Epoch  57 Batch   24/33   train_loss = 3.077\n",
      "Epoch  58 Batch    6/33   train_loss = 3.099\n",
      "Epoch  58 Batch   21/33   train_loss = 3.096\n",
      "Epoch  59 Batch    3/33   train_loss = 2.988\n",
      "Epoch  59 Batch   18/33   train_loss = 3.002\n",
      "Epoch  60 Batch    0/33   train_loss = 2.915\n",
      "Epoch  60 Batch   15/33   train_loss = 3.019\n",
      "Epoch  60 Batch   30/33   train_loss = 3.098\n",
      "Epoch  61 Batch   12/33   train_loss = 2.993\n",
      "Epoch  61 Batch   27/33   train_loss = 2.944\n",
      "Epoch  62 Batch    9/33   train_loss = 2.901\n",
      "Epoch  62 Batch   24/33   train_loss = 2.962\n",
      "Epoch  63 Batch    6/33   train_loss = 2.973\n",
      "Epoch  63 Batch   21/33   train_loss = 3.062\n",
      "Epoch  64 Batch    3/33   train_loss = 2.871\n",
      "Epoch  64 Batch   18/33   train_loss = 2.928\n",
      "Epoch  65 Batch    0/33   train_loss = 2.845\n",
      "Epoch  65 Batch   15/33   train_loss = 2.920\n",
      "Epoch  65 Batch   30/33   train_loss = 2.961\n",
      "Epoch  66 Batch   12/33   train_loss = 2.898\n",
      "Epoch  66 Batch   27/33   train_loss = 2.804\n",
      "Epoch  67 Batch    9/33   train_loss = 2.707\n",
      "Epoch  67 Batch   24/33   train_loss = 2.829\n",
      "Epoch  68 Batch    6/33   train_loss = 2.835\n",
      "Epoch  68 Batch   21/33   train_loss = 2.823\n",
      "Epoch  69 Batch    3/33   train_loss = 2.704\n",
      "Epoch  69 Batch   18/33   train_loss = 2.752\n",
      "Epoch  70 Batch    0/33   train_loss = 2.698\n",
      "Epoch  70 Batch   15/33   train_loss = 2.784\n",
      "Epoch  70 Batch   30/33   train_loss = 2.856\n",
      "Epoch  71 Batch   12/33   train_loss = 2.699\n",
      "Epoch  71 Batch   27/33   train_loss = 2.660\n",
      "Epoch  72 Batch    9/33   train_loss = 2.534\n",
      "Epoch  72 Batch   24/33   train_loss = 2.689\n",
      "Epoch  73 Batch    6/33   train_loss = 2.643\n",
      "Epoch  73 Batch   21/33   train_loss = 2.639\n",
      "Epoch  74 Batch    3/33   train_loss = 2.542\n",
      "Epoch  74 Batch   18/33   train_loss = 2.554\n",
      "Epoch  75 Batch    0/33   train_loss = 2.503\n",
      "Epoch  75 Batch   15/33   train_loss = 2.556\n",
      "Epoch  75 Batch   30/33   train_loss = 2.615\n",
      "Epoch  76 Batch   12/33   train_loss = 2.592\n",
      "Epoch  76 Batch   27/33   train_loss = 2.501\n",
      "Epoch  77 Batch    9/33   train_loss = 2.393\n",
      "Epoch  77 Batch   24/33   train_loss = 2.508\n",
      "Epoch  78 Batch    6/33   train_loss = 2.531\n",
      "Epoch  78 Batch   21/33   train_loss = 2.538\n",
      "Epoch  79 Batch    3/33   train_loss = 2.414\n",
      "Epoch  79 Batch   18/33   train_loss = 2.473\n",
      "Epoch  80 Batch    0/33   train_loss = 2.394\n",
      "Epoch  80 Batch   15/33   train_loss = 2.459\n",
      "Epoch  80 Batch   30/33   train_loss = 2.635\n",
      "Epoch  81 Batch   12/33   train_loss = 2.510\n",
      "Epoch  81 Batch   27/33   train_loss = 2.410\n",
      "Epoch  82 Batch    9/33   train_loss = 2.372\n",
      "Epoch  82 Batch   24/33   train_loss = 2.365\n",
      "Epoch  83 Batch    6/33   train_loss = 2.377\n",
      "Epoch  83 Batch   21/33   train_loss = 2.393\n",
      "Epoch  84 Batch    3/33   train_loss = 2.324\n",
      "Epoch  84 Batch   18/33   train_loss = 2.309\n",
      "Epoch  85 Batch    0/33   train_loss = 2.221\n",
      "Epoch  85 Batch   15/33   train_loss = 2.310\n",
      "Epoch  85 Batch   30/33   train_loss = 2.373\n",
      "Epoch  86 Batch   12/33   train_loss = 2.303\n",
      "Epoch  86 Batch   27/33   train_loss = 2.219\n",
      "Epoch  87 Batch    9/33   train_loss = 2.115\n",
      "Epoch  87 Batch   24/33   train_loss = 2.228\n",
      "Epoch  88 Batch    6/33   train_loss = 2.224\n",
      "Epoch  88 Batch   21/33   train_loss = 2.250\n",
      "Epoch  89 Batch    3/33   train_loss = 2.093\n",
      "Epoch  89 Batch   18/33   train_loss = 2.153\n",
      "Epoch  90 Batch    0/33   train_loss = 2.109\n",
      "Epoch  90 Batch   15/33   train_loss = 2.115\n",
      "Epoch  90 Batch   30/33   train_loss = 2.203\n",
      "Epoch  91 Batch   12/33   train_loss = 2.154\n",
      "Epoch  91 Batch   27/33   train_loss = 2.071\n",
      "Epoch  92 Batch    9/33   train_loss = 1.979\n",
      "Epoch  92 Batch   24/33   train_loss = 2.094\n",
      "Epoch  93 Batch    6/33   train_loss = 2.111\n",
      "Epoch  93 Batch   21/33   train_loss = 2.096\n",
      "Epoch  94 Batch    3/33   train_loss = 2.024\n",
      "Epoch  94 Batch   18/33   train_loss = 2.023\n",
      "Epoch  95 Batch    0/33   train_loss = 1.956\n",
      "Epoch  95 Batch   15/33   train_loss = 2.029\n",
      "Epoch  95 Batch   30/33   train_loss = 2.097\n",
      "Epoch  96 Batch   12/33   train_loss = 2.095\n",
      "Epoch  96 Batch   27/33   train_loss = 1.996\n",
      "Epoch  97 Batch    9/33   train_loss = 1.862\n",
      "Epoch  97 Batch   24/33   train_loss = 1.932\n",
      "Epoch  98 Batch    6/33   train_loss = 1.976\n",
      "Epoch  98 Batch   21/33   train_loss = 2.029\n",
      "Epoch  99 Batch    3/33   train_loss = 1.928\n",
      "Epoch  99 Batch   18/33   train_loss = 1.961\n",
      "Epoch 100 Batch    0/33   train_loss = 1.840\n",
      "Epoch 100 Batch   15/33   train_loss = 1.900\n",
      "Epoch 100 Batch   30/33   train_loss = 2.001\n",
      "Epoch 101 Batch   12/33   train_loss = 1.914\n",
      "Epoch 101 Batch   27/33   train_loss = 1.841\n",
      "Epoch 102 Batch    9/33   train_loss = 1.757\n",
      "Epoch 102 Batch   24/33   train_loss = 1.839\n",
      "Epoch 103 Batch    6/33   train_loss = 1.901\n",
      "Epoch 103 Batch   21/33   train_loss = 1.908\n",
      "Epoch 104 Batch    3/33   train_loss = 1.804\n",
      "Epoch 104 Batch   18/33   train_loss = 1.806\n",
      "Epoch 105 Batch    0/33   train_loss = 1.740\n",
      "Epoch 105 Batch   15/33   train_loss = 1.795\n",
      "Epoch 105 Batch   30/33   train_loss = 1.925\n",
      "Epoch 106 Batch   12/33   train_loss = 1.880\n",
      "Epoch 106 Batch   27/33   train_loss = 1.808\n",
      "Epoch 107 Batch    9/33   train_loss = 1.634\n",
      "Epoch 107 Batch   24/33   train_loss = 1.804\n",
      "Epoch 108 Batch    6/33   train_loss = 1.802\n",
      "Epoch 108 Batch   21/33   train_loss = 1.816\n",
      "Epoch 109 Batch    3/33   train_loss = 1.715\n",
      "Epoch 109 Batch   18/33   train_loss = 1.729\n",
      "Epoch 110 Batch    0/33   train_loss = 1.713\n",
      "Epoch 110 Batch   15/33   train_loss = 1.723\n",
      "Epoch 110 Batch   30/33   train_loss = 1.796\n",
      "Epoch 111 Batch   12/33   train_loss = 1.859\n",
      "Epoch 111 Batch   27/33   train_loss = 1.796\n",
      "Epoch 112 Batch    9/33   train_loss = 1.568\n",
      "Epoch 112 Batch   24/33   train_loss = 1.772\n",
      "Epoch 113 Batch    6/33   train_loss = 1.799\n",
      "Epoch 113 Batch   21/33   train_loss = 1.766\n",
      "Epoch 114 Batch    3/33   train_loss = 1.653\n",
      "Epoch 114 Batch   18/33   train_loss = 1.618\n",
      "Epoch 115 Batch    0/33   train_loss = 1.615\n",
      "Epoch 115 Batch   15/33   train_loss = 1.607\n",
      "Epoch 115 Batch   30/33   train_loss = 1.690\n",
      "Epoch 116 Batch   12/33   train_loss = 1.656\n",
      "Epoch 116 Batch   27/33   train_loss = 1.610\n",
      "Epoch 117 Batch    9/33   train_loss = 1.491\n",
      "Epoch 117 Batch   24/33   train_loss = 1.545\n",
      "Epoch 118 Batch    6/33   train_loss = 1.635\n",
      "Epoch 118 Batch   21/33   train_loss = 1.630\n",
      "Epoch 119 Batch    3/33   train_loss = 1.513\n",
      "Epoch 119 Batch   18/33   train_loss = 1.563\n",
      "Epoch 120 Batch    0/33   train_loss = 1.505\n",
      "Epoch 120 Batch   15/33   train_loss = 1.502\n",
      "Epoch 120 Batch   30/33   train_loss = 1.611\n",
      "Epoch 121 Batch   12/33   train_loss = 1.582\n",
      "Epoch 121 Batch   27/33   train_loss = 1.500\n",
      "Epoch 122 Batch    9/33   train_loss = 1.406\n",
      "Epoch 122 Batch   24/33   train_loss = 1.467\n",
      "Epoch 123 Batch    6/33   train_loss = 1.561\n",
      "Epoch 123 Batch   21/33   train_loss = 1.587\n",
      "Epoch 124 Batch    3/33   train_loss = 1.431\n",
      "Epoch 124 Batch   18/33   train_loss = 1.404\n",
      "Epoch 125 Batch    0/33   train_loss = 1.413\n",
      "Epoch 125 Batch   15/33   train_loss = 1.440\n",
      "Epoch 125 Batch   30/33   train_loss = 1.502\n",
      "Epoch 126 Batch   12/33   train_loss = 1.498\n",
      "Epoch 126 Batch   27/33   train_loss = 1.389\n",
      "Epoch 127 Batch    9/33   train_loss = 1.376\n",
      "Epoch 127 Batch   24/33   train_loss = 1.428\n",
      "Epoch 128 Batch    6/33   train_loss = 1.474\n",
      "Epoch 128 Batch   21/33   train_loss = 1.480\n",
      "Epoch 129 Batch    3/33   train_loss = 1.380\n",
      "Epoch 129 Batch   18/33   train_loss = 1.362\n",
      "Epoch 130 Batch    0/33   train_loss = 1.335\n",
      "Epoch 130 Batch   15/33   train_loss = 1.372\n",
      "Epoch 130 Batch   30/33   train_loss = 1.441\n",
      "Epoch 131 Batch   12/33   train_loss = 1.455\n",
      "Epoch 131 Batch   27/33   train_loss = 1.339\n",
      "Epoch 132 Batch    9/33   train_loss = 1.267\n",
      "Epoch 132 Batch   24/33   train_loss = 1.281\n",
      "Epoch 133 Batch    6/33   train_loss = 1.373\n",
      "Epoch 133 Batch   21/33   train_loss = 1.437\n",
      "Epoch 134 Batch    3/33   train_loss = 1.283\n",
      "Epoch 134 Batch   18/33   train_loss = 1.338\n",
      "Epoch 135 Batch    0/33   train_loss = 1.296\n",
      "Epoch 135 Batch   15/33   train_loss = 1.290\n",
      "Epoch 135 Batch   30/33   train_loss = 1.355\n",
      "Epoch 136 Batch   12/33   train_loss = 1.407\n",
      "Epoch 136 Batch   27/33   train_loss = 1.260\n",
      "Epoch 137 Batch    9/33   train_loss = 1.215\n",
      "Epoch 137 Batch   24/33   train_loss = 1.261\n",
      "Epoch 138 Batch    6/33   train_loss = 1.283\n",
      "Epoch 138 Batch   21/33   train_loss = 1.358\n",
      "Epoch 139 Batch    3/33   train_loss = 1.184\n",
      "Epoch 139 Batch   18/33   train_loss = 1.232\n",
      "Epoch 140 Batch    0/33   train_loss = 1.211\n",
      "Epoch 140 Batch   15/33   train_loss = 1.250\n",
      "Epoch 140 Batch   30/33   train_loss = 1.304\n",
      "Epoch 141 Batch   12/33   train_loss = 1.273\n",
      "Epoch 141 Batch   27/33   train_loss = 1.190\n",
      "Epoch 142 Batch    9/33   train_loss = 1.095\n",
      "Epoch 142 Batch   24/33   train_loss = 1.151\n",
      "Epoch 143 Batch    6/33   train_loss = 1.233\n",
      "Epoch 143 Batch   21/33   train_loss = 1.294\n",
      "Epoch 144 Batch    3/33   train_loss = 1.162\n",
      "Epoch 144 Batch   18/33   train_loss = 1.185\n",
      "Epoch 145 Batch    0/33   train_loss = 1.081\n",
      "Epoch 145 Batch   15/33   train_loss = 1.125\n",
      "Epoch 145 Batch   30/33   train_loss = 1.212\n",
      "Epoch 146 Batch   12/33   train_loss = 1.280\n",
      "Epoch 146 Batch   27/33   train_loss = 1.168\n",
      "Epoch 147 Batch    9/33   train_loss = 1.068\n",
      "Epoch 147 Batch   24/33   train_loss = 1.105\n",
      "Epoch 148 Batch    6/33   train_loss = 1.159\n",
      "Epoch 148 Batch   21/33   train_loss = 1.206\n",
      "Epoch 149 Batch    3/33   train_loss = 1.109\n",
      "Epoch 149 Batch   18/33   train_loss = 1.110\n",
      "Epoch 150 Batch    0/33   train_loss = 1.082\n",
      "Epoch 150 Batch   15/33   train_loss = 1.129\n",
      "Epoch 150 Batch   30/33   train_loss = 1.177\n",
      "Epoch 151 Batch   12/33   train_loss = 1.191\n",
      "Epoch 151 Batch   27/33   train_loss = 1.073\n",
      "Epoch 152 Batch    9/33   train_loss = 1.025\n",
      "Epoch 152 Batch   24/33   train_loss = 1.117\n",
      "Epoch 153 Batch    6/33   train_loss = 1.143\n",
      "Epoch 153 Batch   21/33   train_loss = 1.190\n",
      "Epoch 154 Batch    3/33   train_loss = 1.154\n",
      "Epoch 154 Batch   18/33   train_loss = 1.088\n",
      "Epoch 155 Batch    0/33   train_loss = 1.046\n",
      "Epoch 155 Batch   15/33   train_loss = 1.125\n",
      "Epoch 155 Batch   30/33   train_loss = 1.165\n",
      "Epoch 156 Batch   12/33   train_loss = 1.143\n",
      "Epoch 156 Batch   27/33   train_loss = 1.041\n",
      "Epoch 157 Batch    9/33   train_loss = 0.961\n",
      "Epoch 157 Batch   24/33   train_loss = 1.005\n",
      "Epoch 158 Batch    6/33   train_loss = 1.067\n",
      "Epoch 158 Batch   21/33   train_loss = 1.069\n",
      "Epoch 159 Batch    3/33   train_loss = 0.950\n",
      "Epoch 159 Batch   18/33   train_loss = 1.000\n",
      "Epoch 160 Batch    0/33   train_loss = 0.945\n",
      "Epoch 160 Batch   15/33   train_loss = 0.987\n",
      "Epoch 160 Batch   30/33   train_loss = 1.026\n",
      "Epoch 161 Batch   12/33   train_loss = 1.041\n",
      "Epoch 161 Batch   27/33   train_loss = 0.923\n",
      "Epoch 162 Batch    9/33   train_loss = 0.881\n",
      "Epoch 162 Batch   24/33   train_loss = 0.920\n",
      "Epoch 163 Batch    6/33   train_loss = 0.986\n",
      "Epoch 163 Batch   21/33   train_loss = 1.013\n",
      "Epoch 164 Batch    3/33   train_loss = 0.901\n",
      "Epoch 164 Batch   18/33   train_loss = 0.939\n",
      "Epoch 165 Batch    0/33   train_loss = 0.890\n",
      "Epoch 165 Batch   15/33   train_loss = 0.945\n",
      "Epoch 165 Batch   30/33   train_loss = 0.973\n",
      "Epoch 166 Batch   12/33   train_loss = 1.010\n",
      "Epoch 166 Batch   27/33   train_loss = 0.889\n",
      "Epoch 167 Batch    9/33   train_loss = 0.825\n",
      "Epoch 167 Batch   24/33   train_loss = 0.876\n",
      "Epoch 168 Batch    6/33   train_loss = 0.916\n",
      "Epoch 168 Batch   21/33   train_loss = 0.928\n",
      "Epoch 169 Batch    3/33   train_loss = 0.864\n",
      "Epoch 169 Batch   18/33   train_loss = 0.896\n",
      "Epoch 170 Batch    0/33   train_loss = 0.825\n",
      "Epoch 170 Batch   15/33   train_loss = 0.880\n",
      "Epoch 170 Batch   30/33   train_loss = 0.914\n",
      "Epoch 171 Batch   12/33   train_loss = 0.929\n",
      "Epoch 171 Batch   27/33   train_loss = 0.864\n",
      "Epoch 172 Batch    9/33   train_loss = 0.806\n",
      "Epoch 172 Batch   24/33   train_loss = 0.863\n",
      "Epoch 173 Batch    6/33   train_loss = 0.916\n",
      "Epoch 173 Batch   21/33   train_loss = 0.940\n",
      "Epoch 174 Batch    3/33   train_loss = 0.838\n",
      "Epoch 174 Batch   18/33   train_loss = 0.860\n",
      "Epoch 175 Batch    0/33   train_loss = 0.828\n",
      "Epoch 175 Batch   15/33   train_loss = 0.860\n",
      "Epoch 175 Batch   30/33   train_loss = 0.887\n",
      "Epoch 176 Batch   12/33   train_loss = 0.935\n",
      "Epoch 176 Batch   27/33   train_loss = 0.849\n",
      "Epoch 177 Batch    9/33   train_loss = 0.785\n",
      "Epoch 177 Batch   24/33   train_loss = 0.816\n",
      "Epoch 178 Batch    6/33   train_loss = 0.861\n",
      "Epoch 178 Batch   21/33   train_loss = 0.881\n",
      "Epoch 179 Batch    3/33   train_loss = 0.810\n",
      "Epoch 179 Batch   18/33   train_loss = 0.861\n",
      "Epoch 180 Batch    0/33   train_loss = 0.767\n",
      "Epoch 180 Batch   15/33   train_loss = 0.840\n",
      "Epoch 180 Batch   30/33   train_loss = 0.872\n",
      "Epoch 181 Batch   12/33   train_loss = 0.892\n",
      "Epoch 181 Batch   27/33   train_loss = 0.795\n",
      "Epoch 182 Batch    9/33   train_loss = 0.703\n",
      "Epoch 182 Batch   24/33   train_loss = 0.772\n",
      "Epoch 183 Batch    6/33   train_loss = 0.830\n",
      "Epoch 183 Batch   21/33   train_loss = 0.826\n",
      "Epoch 184 Batch    3/33   train_loss = 0.723\n",
      "Epoch 184 Batch   18/33   train_loss = 0.790\n",
      "Epoch 185 Batch    0/33   train_loss = 0.721\n",
      "Epoch 185 Batch   15/33   train_loss = 0.785\n",
      "Epoch 185 Batch   30/33   train_loss = 0.781\n",
      "Epoch 186 Batch   12/33   train_loss = 0.851\n",
      "Epoch 186 Batch   27/33   train_loss = 0.744\n",
      "Epoch 187 Batch    9/33   train_loss = 0.699\n",
      "Epoch 187 Batch   24/33   train_loss = 0.705\n",
      "Epoch 188 Batch    6/33   train_loss = 0.775\n",
      "Epoch 188 Batch   21/33   train_loss = 0.765\n",
      "Epoch 189 Batch    3/33   train_loss = 0.694\n",
      "Epoch 189 Batch   18/33   train_loss = 0.746\n",
      "Epoch 190 Batch    0/33   train_loss = 0.710\n",
      "Epoch 190 Batch   15/33   train_loss = 0.705\n",
      "Epoch 190 Batch   30/33   train_loss = 0.753\n",
      "Epoch 191 Batch   12/33   train_loss = 0.786\n",
      "Epoch 191 Batch   27/33   train_loss = 0.680\n",
      "Epoch 192 Batch    9/33   train_loss = 0.657\n",
      "Epoch 192 Batch   24/33   train_loss = 0.647\n",
      "Epoch 193 Batch    6/33   train_loss = 0.752\n",
      "Epoch 193 Batch   21/33   train_loss = 0.712\n",
      "Epoch 194 Batch    3/33   train_loss = 0.639\n",
      "Epoch 194 Batch   18/33   train_loss = 0.701\n",
      "Epoch 195 Batch    0/33   train_loss = 0.623\n",
      "Epoch 195 Batch   15/33   train_loss = 0.670\n",
      "Epoch 195 Batch   30/33   train_loss = 0.724\n",
      "Epoch 196 Batch   12/33   train_loss = 0.740\n",
      "Epoch 196 Batch   27/33   train_loss = 0.669\n",
      "Epoch 197 Batch    9/33   train_loss = 0.629\n",
      "Epoch 197 Batch   24/33   train_loss = 0.635\n",
      "Epoch 198 Batch    6/33   train_loss = 0.690\n",
      "Epoch 198 Batch   21/33   train_loss = 0.691\n",
      "Epoch 199 Batch    3/33   train_loss = 0.623\n",
      "Epoch 199 Batch   18/33   train_loss = 0.661\n",
      "Model Trained and Saved\n"
     ]
    }
   ],
   "source": [
    "\"\"\"\n",
    "DON'T MODIFY ANYTHING IN THIS CELL\n",
    "\"\"\"\n",
    "batches = get_batches(int_text, batch_size, seq_length)\n",
    "\n",
    "with tf.Session(graph=train_graph) as sess:\n",
    "    sess.run(tf.global_variables_initializer())\n",
    "\n",
    "    for epoch_i in range(num_epochs):\n",
    "        state = sess.run(initial_state, {input_text: batches[0][0]})\n",
    "\n",
    "        for batch_i, (x, y) in enumerate(batches):\n",
    "            feed = {\n",
    "                input_text: x,\n",
    "                targets: y,\n",
    "                initial_state: state,\n",
    "                lr: learning_rate}\n",
    "            train_loss, state, _ = sess.run([cost, final_state, train_op], feed)\n",
    "\n",
    "            # Show every <show_every_n_batches> batches\n",
    "            if (epoch_i * len(batches) + batch_i) % show_every_n_batches == 0:\n",
    "                print('Epoch {:>3} Batch {:>4}/{}   train_loss = {:.3f}'.format(\n",
    "                    epoch_i,\n",
    "                    batch_i,\n",
    "                    len(batches),\n",
    "                    train_loss))\n",
    "\n",
    "    # Save Model\n",
    "    saver = tf.train.Saver()\n",
    "    saver.save(sess, save_dir)\n",
    "    print('Model Trained and Saved')"
   ]
  },
  {
   "cell_type": "markdown",
   "metadata": {
    "deletable": true,
    "editable": true
   },
   "source": [
    "## Save Parameters\n",
    "Save `seq_length` and `save_dir` for generating a new TV script."
   ]
  },
  {
   "cell_type": "code",
   "execution_count": 33,
   "metadata": {
    "collapsed": false,
    "deletable": true,
    "editable": true
   },
   "outputs": [],
   "source": [
    "\"\"\"\n",
    "DON'T MODIFY ANYTHING IN THIS CELL\n",
    "\"\"\"\n",
    "# Save parameters for checkpoint\n",
    "helper.save_params((seq_length, save_dir))"
   ]
  },
  {
   "cell_type": "markdown",
   "metadata": {
    "deletable": true,
    "editable": true
   },
   "source": [
    "# Checkpoint"
   ]
  },
  {
   "cell_type": "code",
   "execution_count": 34,
   "metadata": {
    "collapsed": false,
    "deletable": true,
    "editable": true
   },
   "outputs": [],
   "source": [
    "\"\"\"\n",
    "DON'T MODIFY ANYTHING IN THIS CELL\n",
    "\"\"\"\n",
    "import tensorflow as tf\n",
    "import numpy as np\n",
    "import helper\n",
    "import problem_unittests as tests\n",
    "\n",
    "_, vocab_to_int, int_to_vocab, token_dict = helper.load_preprocess()\n",
    "seq_length, load_dir = helper.load_params()"
   ]
  },
  {
   "cell_type": "markdown",
   "metadata": {
    "deletable": true,
    "editable": true
   },
   "source": [
    "## Implement Generate Functions\n",
    "### Get Tensors\n",
    "Get tensors from `loaded_graph` using the function [`get_tensor_by_name()`](https://www.tensorflow.org/api_docs/python/tf/Graph#get_tensor_by_name).  Get the tensors using the following names:\n",
    "- \"input:0\"\n",
    "- \"initial_state:0\"\n",
    "- \"final_state:0\"\n",
    "- \"probs:0\"\n",
    "\n",
    "Return the tensors in the following tuple `(InputTensor, InitialStateTensor, FinalStateTensor, ProbsTensor)` "
   ]
  },
  {
   "cell_type": "code",
   "execution_count": 35,
   "metadata": {
    "collapsed": false,
    "deletable": true,
    "editable": true
   },
   "outputs": [
    {
     "name": "stdout",
     "output_type": "stream",
     "text": [
      "Tests Passed\n"
     ]
    }
   ],
   "source": [
    "def get_tensors(loaded_graph):\n",
    "    \"\"\"\n",
    "    Get input, initial state, final state, and probabilities tensor from <loaded_graph>\n",
    "    :param loaded_graph: TensorFlow graph loaded from file\n",
    "    :return: Tuple (InputTensor, InitialStateTensor, FinalStateTensor, ProbsTensor)\n",
    "    \"\"\"\n",
    "    # DONE: Implement Function\n",
    "    InputTensor = loaded_graph.get_tensor_by_name('input:0')\n",
    "    InitialStateTensor = loaded_graph.get_tensor_by_name('initial_state:0')\n",
    "    FinalStateTensor = loaded_graph.get_tensor_by_name('final_state:0')\n",
    "    ProbsTensor = loaded_graph.get_tensor_by_name('probs:0')\n",
    "    \n",
    "    return InputTensor, InitialStateTensor, FinalStateTensor, ProbsTensor\n",
    "\n",
    "\n",
    "\"\"\"\n",
    "DON'T MODIFY ANYTHING IN THIS CELL THAT IS BELOW THIS LINE\n",
    "\"\"\"\n",
    "tests.test_get_tensors(get_tensors)"
   ]
  },
  {
   "cell_type": "markdown",
   "metadata": {
    "deletable": true,
    "editable": true
   },
   "source": [
    "### Choose Word\n",
    "Implement the `pick_word()` function to select the next word using `probabilities`."
   ]
  },
  {
   "cell_type": "code",
   "execution_count": 36,
   "metadata": {
    "collapsed": false,
    "deletable": true,
    "editable": true
   },
   "outputs": [
    {
     "name": "stdout",
     "output_type": "stream",
     "text": [
      "Tests Passed\n"
     ]
    }
   ],
   "source": [
    "def pick_word(probabilities, int_to_vocab):\n",
    "    \"\"\"\n",
    "    Pick the next word in the generated text\n",
    "    :param probabilities: Probabilites of the next word\n",
    "    :param int_to_vocab: Dictionary of word ids as the keys and words as the values\n",
    "    :return: String of the predicted word\n",
    "    \"\"\"\n",
    "    # DONE: Implement Function\n",
    "    #int_words = [int_to_vocab[word] for word in text]\n",
    "    #train_words = [word for word in int_to_vocab if np.any(probabilities < random.random())]\n",
    "    \n",
    "    index = np.argmax(probabilities) \n",
    "    train_words = int_to_vocab[index]\n",
    "    \n",
    "    return train_words\n",
    "\n",
    "\n",
    "\"\"\"\n",
    "DON'T MODIFY ANYTHING IN THIS CELL THAT IS BELOW THIS LINE\n",
    "\"\"\"\n",
    "tests.test_pick_word(pick_word)"
   ]
  },
  {
   "cell_type": "markdown",
   "metadata": {
    "deletable": true,
    "editable": true
   },
   "source": [
    "## Generate TV Script\n",
    "This will generate the TV script for you.  Set `gen_length` to the length of TV script you want to generate."
   ]
  },
  {
   "cell_type": "code",
   "execution_count": 37,
   "metadata": {
    "collapsed": false,
    "deletable": true,
    "editable": true
   },
   "outputs": [
    {
     "name": "stdout",
     "output_type": "stream",
     "text": [
      "moe_szyslak: uh...(ad lib singing) my bar could be british / instead of arm-pittish / all my problem.\n",
      "moe_szyslak: noooooooooo!\n",
      "homer_simpson: what's the matter, moe?\n",
      "moe_szyslak: okay, he's opening my car?\n",
      "\n",
      "\n",
      "homer's_brain: eh, no matter how much kid could my money. i'm too bad.\n",
      "lenny_leonard: no way how like it.(uneasy) oh, moe, she asked for your love channel before i love some milk?\n",
      "moe_szyslak: uh, how like you were looking for a kid young thing with our head, he simpson.\n",
      "homer_simpson: no, i don't have a new kids that might all bad into the house.\n",
      "bart_simpson: well, what-- i've been replaced by this one out of a good one.(pretends to be second book) no. i was gonna break as this place(chuckles)...\n",
      "moe_szyslak: ah, uh, check. but we gotta find a new guy in the hell channel he made it like.\n",
      "apu_nahasapeemapetilon: the wants to understanding by\n"
     ]
    }
   ],
   "source": [
    "gen_length = 200\n",
    "# homer_simpson, moe_szyslak, or Barney_Gumble\n",
    "prime_word = 'moe_szyslak'\n",
    "\n",
    "\"\"\"\n",
    "DON'T MODIFY ANYTHING IN THIS CELL THAT IS BELOW THIS LINE\n",
    "\"\"\"\n",
    "loaded_graph = tf.Graph()\n",
    "with tf.Session(graph=loaded_graph) as sess:\n",
    "    # Load saved model\n",
    "    loader = tf.train.import_meta_graph(load_dir + '.meta')\n",
    "    loader.restore(sess, load_dir)\n",
    "\n",
    "    # Get Tensors from loaded model\n",
    "    input_text, initial_state, final_state, probs = get_tensors(loaded_graph)\n",
    "\n",
    "    # Sentences generation setup\n",
    "    gen_sentences = [prime_word + ':']\n",
    "    prev_state = sess.run(initial_state, {input_text: np.array([[1]])})\n",
    "\n",
    "    # Generate sentences\n",
    "    for n in range(gen_length):\n",
    "        # Dynamic Input\n",
    "        dyn_input = [[vocab_to_int[word] for word in gen_sentences[-seq_length:]]]\n",
    "        dyn_seq_length = len(dyn_input[0])\n",
    "\n",
    "        # Get Prediction\n",
    "        probabilities, prev_state = sess.run(\n",
    "            [probs, final_state],\n",
    "            {input_text: dyn_input, initial_state: prev_state})\n",
    "        \n",
    "        pred_word = pick_word(probabilities[dyn_seq_length-1], int_to_vocab)\n",
    "\n",
    "        gen_sentences.append(pred_word)\n",
    "    \n",
    "    # Remove tokens\n",
    "    tv_script = ' '.join(gen_sentences)\n",
    "    for key, token in token_dict.items():\n",
    "        ending = ' ' if key in ['\\n', '(', '\"'] else ''\n",
    "        tv_script = tv_script.replace(' ' + token.lower(), key)\n",
    "    tv_script = tv_script.replace('\\n ', '\\n')\n",
    "    tv_script = tv_script.replace('( ', '(')\n",
    "        \n",
    "    print(tv_script)"
   ]
  },
  {
   "cell_type": "markdown",
   "metadata": {
    "deletable": true,
    "editable": true
   },
   "source": [
    "# The TV Script is Nonsensical\n",
    "It's ok if the TV script doesn't make any sense.  We trained on less than a megabyte of text.  In order to get good results, you'll have to use a smaller vocabulary or get more data.  Luckly there's more data!  As we mentioned in the begging of this project, this is a subset of [another dataset](https://www.kaggle.com/wcukierski/the-simpsons-by-the-data).  We didn't have you train on all the data, because that would take too long.  However, you are free to train your neural network on all the data.  After you complete the project, of course.\n",
    "# Submitting This Project\n",
    "When submitting this project, make sure to run all the cells before saving the notebook. Save the notebook file as \"dlnd_tv_script_generation.ipynb\" and save it as a HTML file under \"File\" -> \"Download as\". Include the \"helper.py\" and \"problem_unittests.py\" files in your submission."
   ]
  }
 ],
 "metadata": {
  "kernelspec": {
   "display_name": "Python 3",
   "language": "python",
   "name": "python3"
  },
  "language_info": {
   "codemirror_mode": {
    "name": "ipython",
    "version": 3
   },
   "file_extension": ".py",
   "mimetype": "text/x-python",
   "name": "python",
   "nbconvert_exporter": "python",
   "pygments_lexer": "ipython3",
   "version": "3.5.3"
  },
  "widgets": {
   "state": {},
   "version": "1.1.2"
  }
 },
 "nbformat": 4,
 "nbformat_minor": 0
}
