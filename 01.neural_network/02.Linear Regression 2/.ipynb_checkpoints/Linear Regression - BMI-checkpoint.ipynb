{
 "cells": [
  {
   "cell_type": "markdown",
   "metadata": {},
   "source": [
    "In this section, we'll use linear regression to predict life expectancy from body mass index (BMI)\n",
    "\n",
    "For our linear regression model, we'll be using scikit-learn's ***LinearRegression*** class. \n",
    "\n",
    "This class provides the function ***fit()*** to fit the model to our data. Fitting the model means finding the best line that fits the training data.\n",
    "\n",
    "And we will make prediction using the ***predict()*** function."
   ]
  },
  {
   "cell_type": "markdown",
   "metadata": {},
   "source": [
    "# Discover the data\n",
    "\n",
    "We'll be working with data on the average life expectancy at birth and the average BMI for males across the world. It includes three columns, containing the following data:\n",
    "\n",
    "- Country – The country the person was born in.\n",
    "- Life expectancy – The average life expectancy at birth for a person in that country.\n",
    "- BMI – The mean BMI of males in that country.\n",
    "\n",
    "## Load the Libraries"
   ]
  },
  {
   "cell_type": "code",
   "execution_count": 1,
   "metadata": {
    "collapsed": true
   },
   "outputs": [],
   "source": [
    "import pandas as pd\n",
    "from sklearn import linear_model\n",
    "import matplotlib.pyplot as plt"
   ]
  },
  {
   "cell_type": "markdown",
   "metadata": {},
   "source": [
    "# Load the Data"
   ]
  },
  {
   "cell_type": "code",
   "execution_count": 2,
   "metadata": {
    "collapsed": true
   },
   "outputs": [],
   "source": [
    "bmi_life_data = pd.read_csv('bmi_and_life_expectancy.csv')\n",
    "x_values = bmi_life_data[['BMI']]\n",
    "y_values = bmi_life_data[['Life expectancy']]\n",
    "z_values = bmi_life_data[['Country']]"
   ]
  },
  {
   "cell_type": "markdown",
   "metadata": {},
   "source": [
    "## Linear Regression Model"
   ]
  },
  {
   "cell_type": "code",
   "execution_count": 3,
   "metadata": {},
   "outputs": [
    {
     "data": {
      "text/plain": [
       "LinearRegression(copy_X=True, fit_intercept=True, n_jobs=1, normalize=False)"
      ]
     },
     "execution_count": 3,
     "metadata": {},
     "output_type": "execute_result"
    }
   ],
   "source": [
    "# Make and fit the linear regression model\n",
    "# Fit the model and Assign it to bmi_life_model\n",
    "bmi_life_model = linear_model.LinearRegression()\n",
    "bmi_life_model.fit(x_values, y_values)"
   ]
  },
  {
   "cell_type": "markdown",
   "metadata": {},
   "source": [
    "## Make the Prediction"
   ]
  },
  {
   "cell_type": "code",
   "execution_count": 4,
   "metadata": {},
   "outputs": [
    {
     "name": "stdout",
     "output_type": "stream",
     "text": [
      "[[ 60.29220012]]\n"
     ]
    }
   ],
   "source": [
    "# Mak a prediction using the model\n",
    "# For example, predict life expectancy for a BMI value of 21,07\n",
    "laos_life_exp = bmi_life_model.predict(21.07)\n",
    "print(laos_life_exp)"
   ]
  }
 ],
 "metadata": {
  "kernelspec": {
   "display_name": "Python 3",
   "language": "python",
   "name": "python3"
  },
  "language_info": {
   "codemirror_mode": {
    "name": "ipython",
    "version": 3
   },
   "file_extension": ".py",
   "mimetype": "text/x-python",
   "name": "python",
   "nbconvert_exporter": "python",
   "pygments_lexer": "ipython3",
   "version": "3.6.1"
  }
 },
 "nbformat": 4,
 "nbformat_minor": 2
}
